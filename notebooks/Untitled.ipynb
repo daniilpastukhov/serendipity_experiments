{
 "cells": [
  {
   "cell_type": "code",
   "execution_count": 3,
   "id": "7ad82be6-f345-4125-878d-b7a031d3efab",
   "metadata": {},
   "outputs": [],
   "source": [
    "import os\n",
    "import numpy as np\n",
    "from joblib import load, dump\n",
    "import pandas as pd"
   ]
  },
  {
   "cell_type": "code",
   "execution_count": 4,
   "id": "42e58aba-167d-47b4-a4fd-8a1e7837c614",
   "metadata": {},
   "outputs": [],
   "source": [
    "primitive_recommendations = load('../cache/primitive_recommendations.joblib')"
   ]
  },
  {
   "cell_type": "code",
   "execution_count": 9,
   "id": "4606c3d9-71db-4937-9d6a-fb7b3b4e8017",
   "metadata": {},
   "outputs": [
    {
     "data": {
      "text/plain": [
       "array([1, 2, 3])"
      ]
     },
     "execution_count": 9,
     "metadata": {},
     "output_type": "execute_result"
    }
   ],
   "source": [
    "a = np.array([[1, 2], [2, 3]])\n",
    "np.unique(a)"
   ]
  },
  {
   "cell_type": "code",
   "execution_count": 11,
   "id": "709261e3-30e8-4cf1-a32c-33e9cd070c11",
   "metadata": {},
   "outputs": [],
   "source": [
    "flat_pr = {}"
   ]
  },
  {
   "cell_type": "code",
   "execution_count": 12,
   "id": "d63d8616-7cea-4e6b-8347-d91e479c099e",
   "metadata": {},
   "outputs": [],
   "source": [
    "for user, value in primitive_recommendations.items():\n",
    "    flat_pr[user] = np.unique(value)"
   ]
  },
  {
   "cell_type": "code",
   "execution_count": 14,
   "id": "0e2eaf8c-f6b0-4bbe-9f81-3588c281ca09",
   "metadata": {},
   "outputs": [
    {
     "data": {
      "text/plain": [
       "['../cache/flat_pr.joblib']"
      ]
     },
     "execution_count": 14,
     "metadata": {},
     "output_type": "execute_result"
    }
   ],
   "source": [
    "dump(flat_pr, '../cache/flat_pr.joblib')"
   ]
  },
  {
   "cell_type": "code",
   "execution_count": 2,
   "id": "bbfdbb03-9b5e-42d1-9105-749b255a457b",
   "metadata": {},
   "outputs": [],
   "source": [
    "PATH = '../data/movielens/1m/'\n",
    "CLEAN_PATH = os.path.join(PATH, 'clean')"
   ]
  },
  {
   "cell_type": "code",
   "execution_count": 3,
   "id": "550953de-80e8-4b92-9c4a-676a95725868",
   "metadata": {},
   "outputs": [],
   "source": [
    "test_data =  pd.read_csv(os.path.join(CLEAN_PATH, 'test_data.csv'), index_col='userId')"
   ]
  },
  {
   "cell_type": "code",
   "execution_count": 4,
   "id": "28a4e79d-1acf-4530-84ed-6073f397adac",
   "metadata": {},
   "outputs": [
    {
     "data": {
      "text/html": [
       "<div>\n",
       "<style scoped>\n",
       "    .dataframe tbody tr th:only-of-type {\n",
       "        vertical-align: middle;\n",
       "    }\n",
       "\n",
       "    .dataframe tbody tr th {\n",
       "        vertical-align: top;\n",
       "    }\n",
       "\n",
       "    .dataframe thead th {\n",
       "        text-align: right;\n",
       "    }\n",
       "</style>\n",
       "<table border=\"1\" class=\"dataframe\">\n",
       "  <thead>\n",
       "    <tr style=\"text-align: right;\">\n",
       "      <th></th>\n",
       "      <th>1</th>\n",
       "      <th>2</th>\n",
       "      <th>3</th>\n",
       "      <th>4</th>\n",
       "      <th>5</th>\n",
       "      <th>6</th>\n",
       "      <th>7</th>\n",
       "      <th>8</th>\n",
       "      <th>9</th>\n",
       "      <th>10</th>\n",
       "      <th>...</th>\n",
       "      <th>3943</th>\n",
       "      <th>3944</th>\n",
       "      <th>3945</th>\n",
       "      <th>3946</th>\n",
       "      <th>3947</th>\n",
       "      <th>3948</th>\n",
       "      <th>3949</th>\n",
       "      <th>3950</th>\n",
       "      <th>3951</th>\n",
       "      <th>3952</th>\n",
       "    </tr>\n",
       "    <tr>\n",
       "      <th>userId</th>\n",
       "      <th></th>\n",
       "      <th></th>\n",
       "      <th></th>\n",
       "      <th></th>\n",
       "      <th></th>\n",
       "      <th></th>\n",
       "      <th></th>\n",
       "      <th></th>\n",
       "      <th></th>\n",
       "      <th></th>\n",
       "      <th></th>\n",
       "      <th></th>\n",
       "      <th></th>\n",
       "      <th></th>\n",
       "      <th></th>\n",
       "      <th></th>\n",
       "      <th></th>\n",
       "      <th></th>\n",
       "      <th></th>\n",
       "      <th></th>\n",
       "      <th></th>\n",
       "    </tr>\n",
       "  </thead>\n",
       "  <tbody>\n",
       "    <tr>\n",
       "      <th>5530</th>\n",
       "      <td>3.0</td>\n",
       "      <td>2.0</td>\n",
       "      <td>0.0</td>\n",
       "      <td>0.0</td>\n",
       "      <td>0.0</td>\n",
       "      <td>0.0</td>\n",
       "      <td>0.0</td>\n",
       "      <td>2.0</td>\n",
       "      <td>0.0</td>\n",
       "      <td>0.0</td>\n",
       "      <td>...</td>\n",
       "      <td>0.0</td>\n",
       "      <td>0.0</td>\n",
       "      <td>0.0</td>\n",
       "      <td>0.0</td>\n",
       "      <td>0.0</td>\n",
       "      <td>0.0</td>\n",
       "      <td>0.0</td>\n",
       "      <td>0.0</td>\n",
       "      <td>0.0</td>\n",
       "      <td>0.0</td>\n",
       "    </tr>\n",
       "    <tr>\n",
       "      <th>711</th>\n",
       "      <td>0.0</td>\n",
       "      <td>0.0</td>\n",
       "      <td>0.0</td>\n",
       "      <td>0.0</td>\n",
       "      <td>0.0</td>\n",
       "      <td>0.0</td>\n",
       "      <td>0.0</td>\n",
       "      <td>0.0</td>\n",
       "      <td>0.0</td>\n",
       "      <td>0.0</td>\n",
       "      <td>...</td>\n",
       "      <td>0.0</td>\n",
       "      <td>0.0</td>\n",
       "      <td>0.0</td>\n",
       "      <td>0.0</td>\n",
       "      <td>0.0</td>\n",
       "      <td>0.0</td>\n",
       "      <td>0.0</td>\n",
       "      <td>0.0</td>\n",
       "      <td>0.0</td>\n",
       "      <td>0.0</td>\n",
       "    </tr>\n",
       "    <tr>\n",
       "      <th>4924</th>\n",
       "      <td>0.0</td>\n",
       "      <td>0.0</td>\n",
       "      <td>0.0</td>\n",
       "      <td>0.0</td>\n",
       "      <td>0.0</td>\n",
       "      <td>0.0</td>\n",
       "      <td>0.0</td>\n",
       "      <td>0.0</td>\n",
       "      <td>0.0</td>\n",
       "      <td>0.0</td>\n",
       "      <td>...</td>\n",
       "      <td>0.0</td>\n",
       "      <td>0.0</td>\n",
       "      <td>0.0</td>\n",
       "      <td>0.0</td>\n",
       "      <td>0.0</td>\n",
       "      <td>0.0</td>\n",
       "      <td>0.0</td>\n",
       "      <td>0.0</td>\n",
       "      <td>0.0</td>\n",
       "      <td>0.0</td>\n",
       "    </tr>\n",
       "    <tr>\n",
       "      <th>2154</th>\n",
       "      <td>4.0</td>\n",
       "      <td>0.0</td>\n",
       "      <td>0.0</td>\n",
       "      <td>0.0</td>\n",
       "      <td>0.0</td>\n",
       "      <td>0.0</td>\n",
       "      <td>0.0</td>\n",
       "      <td>0.0</td>\n",
       "      <td>0.0</td>\n",
       "      <td>0.0</td>\n",
       "      <td>...</td>\n",
       "      <td>0.0</td>\n",
       "      <td>0.0</td>\n",
       "      <td>0.0</td>\n",
       "      <td>0.0</td>\n",
       "      <td>0.0</td>\n",
       "      <td>0.0</td>\n",
       "      <td>0.0</td>\n",
       "      <td>0.0</td>\n",
       "      <td>0.0</td>\n",
       "      <td>0.0</td>\n",
       "    </tr>\n",
       "    <tr>\n",
       "      <th>1273</th>\n",
       "      <td>3.0</td>\n",
       "      <td>0.0</td>\n",
       "      <td>0.0</td>\n",
       "      <td>0.0</td>\n",
       "      <td>0.0</td>\n",
       "      <td>0.0</td>\n",
       "      <td>3.0</td>\n",
       "      <td>0.0</td>\n",
       "      <td>0.0</td>\n",
       "      <td>0.0</td>\n",
       "      <td>...</td>\n",
       "      <td>0.0</td>\n",
       "      <td>0.0</td>\n",
       "      <td>0.0</td>\n",
       "      <td>0.0</td>\n",
       "      <td>0.0</td>\n",
       "      <td>0.0</td>\n",
       "      <td>0.0</td>\n",
       "      <td>0.0</td>\n",
       "      <td>0.0</td>\n",
       "      <td>0.0</td>\n",
       "    </tr>\n",
       "    <tr>\n",
       "      <th>...</th>\n",
       "      <td>...</td>\n",
       "      <td>...</td>\n",
       "      <td>...</td>\n",
       "      <td>...</td>\n",
       "      <td>...</td>\n",
       "      <td>...</td>\n",
       "      <td>...</td>\n",
       "      <td>...</td>\n",
       "      <td>...</td>\n",
       "      <td>...</td>\n",
       "      <td>...</td>\n",
       "      <td>...</td>\n",
       "      <td>...</td>\n",
       "      <td>...</td>\n",
       "      <td>...</td>\n",
       "      <td>...</td>\n",
       "      <td>...</td>\n",
       "      <td>...</td>\n",
       "      <td>...</td>\n",
       "      <td>...</td>\n",
       "      <td>...</td>\n",
       "    </tr>\n",
       "    <tr>\n",
       "      <th>1216</th>\n",
       "      <td>0.0</td>\n",
       "      <td>0.0</td>\n",
       "      <td>0.0</td>\n",
       "      <td>0.0</td>\n",
       "      <td>0.0</td>\n",
       "      <td>4.0</td>\n",
       "      <td>0.0</td>\n",
       "      <td>0.0</td>\n",
       "      <td>0.0</td>\n",
       "      <td>0.0</td>\n",
       "      <td>...</td>\n",
       "      <td>0.0</td>\n",
       "      <td>0.0</td>\n",
       "      <td>0.0</td>\n",
       "      <td>0.0</td>\n",
       "      <td>5.0</td>\n",
       "      <td>0.0</td>\n",
       "      <td>0.0</td>\n",
       "      <td>0.0</td>\n",
       "      <td>0.0</td>\n",
       "      <td>0.0</td>\n",
       "    </tr>\n",
       "    <tr>\n",
       "      <th>2081</th>\n",
       "      <td>0.0</td>\n",
       "      <td>0.0</td>\n",
       "      <td>0.0</td>\n",
       "      <td>0.0</td>\n",
       "      <td>0.0</td>\n",
       "      <td>5.0</td>\n",
       "      <td>0.0</td>\n",
       "      <td>0.0</td>\n",
       "      <td>0.0</td>\n",
       "      <td>0.0</td>\n",
       "      <td>...</td>\n",
       "      <td>0.0</td>\n",
       "      <td>0.0</td>\n",
       "      <td>0.0</td>\n",
       "      <td>0.0</td>\n",
       "      <td>0.0</td>\n",
       "      <td>0.0</td>\n",
       "      <td>0.0</td>\n",
       "      <td>0.0</td>\n",
       "      <td>0.0</td>\n",
       "      <td>3.0</td>\n",
       "    </tr>\n",
       "    <tr>\n",
       "      <th>5674</th>\n",
       "      <td>5.0</td>\n",
       "      <td>0.0</td>\n",
       "      <td>0.0</td>\n",
       "      <td>0.0</td>\n",
       "      <td>0.0</td>\n",
       "      <td>0.0</td>\n",
       "      <td>0.0</td>\n",
       "      <td>0.0</td>\n",
       "      <td>0.0</td>\n",
       "      <td>0.0</td>\n",
       "      <td>...</td>\n",
       "      <td>0.0</td>\n",
       "      <td>0.0</td>\n",
       "      <td>0.0</td>\n",
       "      <td>0.0</td>\n",
       "      <td>0.0</td>\n",
       "      <td>0.0</td>\n",
       "      <td>0.0</td>\n",
       "      <td>0.0</td>\n",
       "      <td>0.0</td>\n",
       "      <td>0.0</td>\n",
       "    </tr>\n",
       "    <tr>\n",
       "      <th>3936</th>\n",
       "      <td>0.0</td>\n",
       "      <td>0.0</td>\n",
       "      <td>0.0</td>\n",
       "      <td>0.0</td>\n",
       "      <td>0.0</td>\n",
       "      <td>0.0</td>\n",
       "      <td>0.0</td>\n",
       "      <td>0.0</td>\n",
       "      <td>0.0</td>\n",
       "      <td>0.0</td>\n",
       "      <td>...</td>\n",
       "      <td>0.0</td>\n",
       "      <td>0.0</td>\n",
       "      <td>0.0</td>\n",
       "      <td>0.0</td>\n",
       "      <td>0.0</td>\n",
       "      <td>0.0</td>\n",
       "      <td>0.0</td>\n",
       "      <td>0.0</td>\n",
       "      <td>0.0</td>\n",
       "      <td>0.0</td>\n",
       "    </tr>\n",
       "    <tr>\n",
       "      <th>1095</th>\n",
       "      <td>0.0</td>\n",
       "      <td>0.0</td>\n",
       "      <td>0.0</td>\n",
       "      <td>0.0</td>\n",
       "      <td>0.0</td>\n",
       "      <td>0.0</td>\n",
       "      <td>0.0</td>\n",
       "      <td>0.0</td>\n",
       "      <td>0.0</td>\n",
       "      <td>0.0</td>\n",
       "      <td>...</td>\n",
       "      <td>0.0</td>\n",
       "      <td>0.0</td>\n",
       "      <td>0.0</td>\n",
       "      <td>0.0</td>\n",
       "      <td>0.0</td>\n",
       "      <td>0.0</td>\n",
       "      <td>0.0</td>\n",
       "      <td>0.0</td>\n",
       "      <td>0.0</td>\n",
       "      <td>0.0</td>\n",
       "    </tr>\n",
       "  </tbody>\n",
       "</table>\n",
       "<p>1208 rows × 3706 columns</p>\n",
       "</div>"
      ],
      "text/plain": [
       "          1    2    3    4    5    6    7    8    9   10  ...  3943  3944  \\\n",
       "userId                                                    ...               \n",
       "5530    3.0  2.0  0.0  0.0  0.0  0.0  0.0  2.0  0.0  0.0  ...   0.0   0.0   \n",
       "711     0.0  0.0  0.0  0.0  0.0  0.0  0.0  0.0  0.0  0.0  ...   0.0   0.0   \n",
       "4924    0.0  0.0  0.0  0.0  0.0  0.0  0.0  0.0  0.0  0.0  ...   0.0   0.0   \n",
       "2154    4.0  0.0  0.0  0.0  0.0  0.0  0.0  0.0  0.0  0.0  ...   0.0   0.0   \n",
       "1273    3.0  0.0  0.0  0.0  0.0  0.0  3.0  0.0  0.0  0.0  ...   0.0   0.0   \n",
       "...     ...  ...  ...  ...  ...  ...  ...  ...  ...  ...  ...   ...   ...   \n",
       "1216    0.0  0.0  0.0  0.0  0.0  4.0  0.0  0.0  0.0  0.0  ...   0.0   0.0   \n",
       "2081    0.0  0.0  0.0  0.0  0.0  5.0  0.0  0.0  0.0  0.0  ...   0.0   0.0   \n",
       "5674    5.0  0.0  0.0  0.0  0.0  0.0  0.0  0.0  0.0  0.0  ...   0.0   0.0   \n",
       "3936    0.0  0.0  0.0  0.0  0.0  0.0  0.0  0.0  0.0  0.0  ...   0.0   0.0   \n",
       "1095    0.0  0.0  0.0  0.0  0.0  0.0  0.0  0.0  0.0  0.0  ...   0.0   0.0   \n",
       "\n",
       "        3945  3946  3947  3948  3949  3950  3951  3952  \n",
       "userId                                                  \n",
       "5530     0.0   0.0   0.0   0.0   0.0   0.0   0.0   0.0  \n",
       "711      0.0   0.0   0.0   0.0   0.0   0.0   0.0   0.0  \n",
       "4924     0.0   0.0   0.0   0.0   0.0   0.0   0.0   0.0  \n",
       "2154     0.0   0.0   0.0   0.0   0.0   0.0   0.0   0.0  \n",
       "1273     0.0   0.0   0.0   0.0   0.0   0.0   0.0   0.0  \n",
       "...      ...   ...   ...   ...   ...   ...   ...   ...  \n",
       "1216     0.0   0.0   5.0   0.0   0.0   0.0   0.0   0.0  \n",
       "2081     0.0   0.0   0.0   0.0   0.0   0.0   0.0   3.0  \n",
       "5674     0.0   0.0   0.0   0.0   0.0   0.0   0.0   0.0  \n",
       "3936     0.0   0.0   0.0   0.0   0.0   0.0   0.0   0.0  \n",
       "1095     0.0   0.0   0.0   0.0   0.0   0.0   0.0   0.0  \n",
       "\n",
       "[1208 rows x 3706 columns]"
      ]
     },
     "execution_count": 4,
     "metadata": {},
     "output_type": "execute_result"
    }
   ],
   "source": [
    "test_data"
   ]
  },
  {
   "cell_type": "code",
   "execution_count": 5,
   "id": "0540600e-3325-448c-a5cc-5930c0cfa2e2",
   "metadata": {},
   "outputs": [],
   "source": [
    "recommendations = np.array([[1, 2, 3, 4, 5, 6, 7, 8, 9, 10]] * len(test_data))"
   ]
  },
  {
   "cell_type": "code",
   "execution_count": 6,
   "id": "9c6527e0-2b28-414d-be09-4a731a044a67",
   "metadata": {},
   "outputs": [
    {
     "data": {
      "text/plain": [
       "array([[ 1,  2,  3, ...,  8,  9, 10],\n",
       "       [ 1,  2,  3, ...,  8,  9, 10],\n",
       "       [ 1,  2,  3, ...,  8,  9, 10],\n",
       "       ...,\n",
       "       [ 1,  2,  3, ...,  8,  9, 10],\n",
       "       [ 1,  2,  3, ...,  8,  9, 10],\n",
       "       [ 1,  2,  3, ...,  8,  9, 10]])"
      ]
     },
     "execution_count": 6,
     "metadata": {},
     "output_type": "execute_result"
    }
   ],
   "source": [
    "recommendations"
   ]
  },
  {
   "cell_type": "code",
   "execution_count": 7,
   "id": "f636a6d3-aa35-4577-b972-c69e7267abc2",
   "metadata": {},
   "outputs": [],
   "source": [
    "a = test_data.iloc[0]"
   ]
  },
  {
   "cell_type": "code",
   "execution_count": 31,
   "id": "c5fce8e6-142b-48f8-bdaa-02f57b3429c6",
   "metadata": {},
   "outputs": [
    {
     "data": {
      "text/plain": [
       "1       3.0\n",
       "2       2.0\n",
       "3       0.0\n",
       "4       0.0\n",
       "5       0.0\n",
       "       ... \n",
       "3948    0.0\n",
       "3949    0.0\n",
       "3950    0.0\n",
       "3951    0.0\n",
       "3952    0.0\n",
       "Name: 5530, Length: 3706, dtype: float64"
      ]
     },
     "execution_count": 31,
     "metadata": {},
     "output_type": "execute_result"
    }
   ],
   "source": [
    "a"
   ]
  },
  {
   "cell_type": "code",
   "execution_count": 38,
   "id": "096d02b9-f803-46e2-9c94-4fb71da6246f",
   "metadata": {},
   "outputs": [],
   "source": [
    "b = a[a.index.astype(int).isin(recommendations[0])]"
   ]
  },
  {
   "cell_type": "code",
   "execution_count": 42,
   "id": "c2a3622c-8a84-4ead-b60e-e328180563b2",
   "metadata": {},
   "outputs": [
    {
     "data": {
      "text/plain": [
       "3"
      ]
     },
     "execution_count": 42,
     "metadata": {},
     "output_type": "execute_result"
    }
   ],
   "source": [
    "b[b != 0].shape[0]"
   ]
  },
  {
   "cell_type": "code",
   "execution_count": 51,
   "id": "8fb8781b-f10b-4d6a-8946-18c0e9fa924f",
   "metadata": {},
   "outputs": [
    {
     "data": {
      "text/plain": [
       "1208"
      ]
     },
     "execution_count": 51,
     "metadata": {},
     "output_type": "execute_result"
    }
   ],
   "source": [
    "(recommendations == 2).sum()"
   ]
  },
  {
   "cell_type": "code",
   "execution_count": 66,
   "id": "ce3d7693-080d-4deb-836a-e21e3a2a3bb3",
   "metadata": {},
   "outputs": [
    {
     "data": {
      "text/plain": [
       "79"
      ]
     },
     "execution_count": 66,
     "metadata": {},
     "output_type": "execute_result"
    }
   ],
   "source": [
    "(test_data[movie_id] != 0).sum()"
   ]
  },
  {
   "cell_type": "code",
   "execution_count": 5,
   "id": "27cbc008-26d3-480d-8891-078bc8392829",
   "metadata": {},
   "outputs": [],
   "source": [
    "recommendations = np.random.choice(test_data.columns.astype(int), size=(test_data.shape[0], 10))"
   ]
  },
  {
   "cell_type": "code",
   "execution_count": 6,
   "id": "0f5200ac-3301-48c4-834c-4f31e674502b",
   "metadata": {},
   "outputs": [
    {
     "data": {
      "text/plain": [
       "array([[ 946, 2108, 3147, ..., 3847, 2582, 3155],\n",
       "       [1667, 2026,  671, ..., 2591,  697, 2920],\n",
       "       [1604, 1529, 2859, ..., 2807, 1464, 2384],\n",
       "       ...,\n",
       "       [1933,  304,  172, ...,   70, 2922, 2143],\n",
       "       [3305,  988, 3757, ..., 2947, 3573, 3054],\n",
       "       [2058, 1916,  718, ..., 2294,  121,  140]], dtype=int64)"
      ]
     },
     "execution_count": 6,
     "metadata": {},
     "output_type": "execute_result"
    }
   ],
   "source": [
    "recommendations"
   ]
  },
  {
   "cell_type": "code",
   "execution_count": 21,
   "id": "44e55226-522f-43d1-9472-07a3b25fcf3b",
   "metadata": {},
   "outputs": [
    {
     "data": {
      "text/plain": [
       "array([[False, False, False, ..., False, False, False],\n",
       "       [False, False, False, ..., False, False, False],\n",
       "       [False, False, False, ..., False, False, False],\n",
       "       ...,\n",
       "       [False, False, False, ..., False, False, False],\n",
       "       [False, False, False, ..., False, False, False],\n",
       "       [False, False, False, ..., False, False, False]])"
      ]
     },
     "execution_count": 21,
     "metadata": {},
     "output_type": "execute_result"
    }
   ],
   "source": [
    "(recommendations == int(3))"
   ]
  },
  {
   "cell_type": "code",
   "execution_count": 7,
   "id": "dc3becee-aa07-4956-b4fc-658d67b8e0ba",
   "metadata": {},
   "outputs": [],
   "source": [
    "movies_nov = pd.Series(np.zeros(len(test_data.columns)), index=test_data.columns, dtype=np.float32)\n",
    "for movie_id in test_data.columns:\n",
    "    recommended_fraction = (recommendations == int(movie_id)).sum()\n",
    "    not_interacted_fraction = (test_data[movie_id] == 0).sum() + 1e-10\n",
    "#     print(recommended_fraction, not_interacted_fraction, 1 - (recommended_fraction / not_interacted_fraction))\n",
    "    movies_nov[movies_nov.index == movie_id] =  1 - (recommended_fraction / not_interacted_fraction)"
   ]
  },
  {
   "cell_type": "code",
   "execution_count": 8,
   "id": "cb5cfe9d-a698-4cef-9c45-f0f9e1298eb5",
   "metadata": {},
   "outputs": [],
   "source": [
    "movies_nov = (movies_nov - movies_nov.min()) / (movies_nov.max() - movies_nov.min())"
   ]
  },
  {
   "cell_type": "code",
   "execution_count": null,
   "id": "aa9b2e82-d826-401a-ad82-58fa850bff15",
   "metadata": {},
   "outputs": [],
   "source": []
  },
  {
   "cell_type": "code",
   "execution_count": 11,
   "id": "2a625426-1d41-4dcf-be3c-d5e5fa4d157d",
   "metadata": {},
   "outputs": [
    {
     "data": {
      "text/plain": [
       "array([ 946, 2108, 3147,  657, 1518,  314, 3362, 3847, 2582, 3155],\n",
       "      dtype=int64)"
      ]
     },
     "execution_count": 11,
     "metadata": {},
     "output_type": "execute_result"
    }
   ],
   "source": [
    "recommendations[0]"
   ]
  },
  {
   "cell_type": "code",
   "execution_count": 15,
   "id": "f0c5d8e9-81f0-4e17-80df-c5afbd741ac3",
   "metadata": {},
   "outputs": [
    {
     "data": {
      "text/plain": [
       "1       0.722540\n",
       "2       0.897618\n",
       "3       1.000000\n",
       "4       0.353426\n",
       "5       0.428790\n",
       "          ...   \n",
       "3948    0.792102\n",
       "3949    0.338806\n",
       "3950    0.909097\n",
       "3951    0.728665\n",
       "3952    0.807577\n",
       "Length: 3706, dtype: float32"
      ]
     },
     "execution_count": 15,
     "metadata": {},
     "output_type": "execute_result"
    }
   ],
   "source": [
    "movies_nov"
   ]
  },
  {
   "cell_type": "code",
   "execution_count": 19,
   "id": "53cb289b-210e-4118-b40e-12960c9abd8e",
   "metadata": {},
   "outputs": [
    {
     "data": {
      "text/plain": [
       "0.6136652"
      ]
     },
     "execution_count": 19,
     "metadata": {},
     "output_type": "execute_result"
    }
   ],
   "source": [
    "movies_nov[movies_nov.index.astype(int).isin(recommendations[0])].mean()"
   ]
  },
  {
   "cell_type": "code",
   "execution_count": 16,
   "id": "5db149d3-2614-4983-95a2-bde06cc01aa4",
   "metadata": {},
   "outputs": [
    {
     "data": {
      "text/plain": [
       "Index(['1', '2', '3', '4', '5', '6', '7', '8', '9', '10',\n",
       "       ...\n",
       "       '3943', '3944', '3945', '3946', '3947', '3948', '3949', '3950', '3951',\n",
       "       '3952'],\n",
       "      dtype='object', length=3706)"
      ]
     },
     "execution_count": 16,
     "metadata": {},
     "output_type": "execute_result"
    }
   ],
   "source": [
    "movies_nov.index"
   ]
  },
  {
   "cell_type": "code",
   "execution_count": null,
   "id": "7b8752ae-da3b-4a5d-b16c-96f6377a0b9f",
   "metadata": {},
   "outputs": [],
   "source": []
  }
 ],
 "metadata": {
  "kernelspec": {
   "display_name": "Python 3 (ipykernel)",
   "language": "python",
   "name": "python3"
  },
  "language_info": {
   "codemirror_mode": {
    "name": "ipython",
    "version": 3
   },
   "file_extension": ".py",
   "mimetype": "text/x-python",
   "name": "python",
   "nbconvert_exporter": "python",
   "pygments_lexer": "ipython3",
   "version": "3.7.9"
  }
 },
 "nbformat": 4,
 "nbformat_minor": 5
}
