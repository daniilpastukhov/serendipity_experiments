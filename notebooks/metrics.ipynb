{
 "cells": [
  {
   "cell_type": "markdown",
   "metadata": {},
   "source": [
    "# Imports"
   ]
  },
  {
   "cell_type": "code",
   "execution_count": 1,
   "metadata": {},
   "outputs": [],
   "source": [
    "import numpy as np\n",
    "import pandas as pd\n",
    "from joblib import load\n",
    "from scipy.spatial.distance import cosine"
   ]
  },
  {
   "cell_type": "markdown",
   "metadata": {},
   "source": [
    "# Toy data"
   ]
  },
  {
   "cell_type": "code",
   "execution_count": 2,
   "metadata": {},
   "outputs": [],
   "source": [
    "ratings = pd.DataFrame([\n",
    "    [1, 1, 0, 0],\n",
    "    [0, 1, 1, 0],\n",
    "    [0, 0, 1, 1],\n",
    "    [1, 0, 1, 1],\n",
    "    [0, 0, 1, 0]\n",
    "], columns=['Star Wars', 'Matrix', 'Avengers', 'Lord Of The Rings'])\n",
    "ratings.index.name = 'User'"
   ]
  },
  {
   "cell_type": "code",
   "execution_count": 3,
   "metadata": {},
   "outputs": [
    {
     "data": {
      "text/html": [
       "<div>\n",
       "<style scoped>\n",
       "    .dataframe tbody tr th:only-of-type {\n",
       "        vertical-align: middle;\n",
       "    }\n",
       "\n",
       "    .dataframe tbody tr th {\n",
       "        vertical-align: top;\n",
       "    }\n",
       "\n",
       "    .dataframe thead th {\n",
       "        text-align: right;\n",
       "    }\n",
       "</style>\n",
       "<table border=\"1\" class=\"dataframe\">\n",
       "  <thead>\n",
       "    <tr style=\"text-align: right;\">\n",
       "      <th></th>\n",
       "      <th>Star Wars</th>\n",
       "      <th>Matrix</th>\n",
       "      <th>Avengers</th>\n",
       "      <th>Lord Of The Rings</th>\n",
       "    </tr>\n",
       "    <tr>\n",
       "      <th>User</th>\n",
       "      <th></th>\n",
       "      <th></th>\n",
       "      <th></th>\n",
       "      <th></th>\n",
       "    </tr>\n",
       "  </thead>\n",
       "  <tbody>\n",
       "    <tr>\n",
       "      <th>0</th>\n",
       "      <td>1</td>\n",
       "      <td>1</td>\n",
       "      <td>0</td>\n",
       "      <td>0</td>\n",
       "    </tr>\n",
       "    <tr>\n",
       "      <th>1</th>\n",
       "      <td>0</td>\n",
       "      <td>1</td>\n",
       "      <td>1</td>\n",
       "      <td>0</td>\n",
       "    </tr>\n",
       "    <tr>\n",
       "      <th>2</th>\n",
       "      <td>0</td>\n",
       "      <td>0</td>\n",
       "      <td>1</td>\n",
       "      <td>1</td>\n",
       "    </tr>\n",
       "    <tr>\n",
       "      <th>3</th>\n",
       "      <td>1</td>\n",
       "      <td>0</td>\n",
       "      <td>1</td>\n",
       "      <td>1</td>\n",
       "    </tr>\n",
       "    <tr>\n",
       "      <th>4</th>\n",
       "      <td>0</td>\n",
       "      <td>0</td>\n",
       "      <td>1</td>\n",
       "      <td>0</td>\n",
       "    </tr>\n",
       "  </tbody>\n",
       "</table>\n",
       "</div>"
      ],
      "text/plain": [
       "      Star Wars  Matrix  Avengers  Lord Of The Rings\n",
       "User                                                \n",
       "0             1       1         0                  0\n",
       "1             0       1         1                  0\n",
       "2             0       0         1                  1\n",
       "3             1       0         1                  1\n",
       "4             0       0         1                  0"
      ]
     },
     "execution_count": 3,
     "metadata": {},
     "output_type": "execute_result"
    }
   ],
   "source": [
    "ratings"
   ]
  },
  {
   "cell_type": "markdown",
   "metadata": {},
   "source": [
    "# Notation"
   ]
  },
  {
   "cell_type": "markdown",
   "metadata": {},
   "source": [
    "<table>\n",
    "    <tr>\n",
    "        <td>$i$</td>\n",
    "        <td>Item</td>\n",
    "    </tr>\n",
    "    <tr>\n",
    "        <td>$u$</td>\n",
    "        <td>User</td>\n",
    "    </tr>\n",
    "    <tr>\n",
    "        <td>$I_{u}$</td>\n",
    "        <td>Rated items/interactions of user u</td>\n",
    "    </tr>\n",
    "    <tr>\n",
    "        <td>$sim(i, j)$</td>\n",
    "        <td>Similarity of items i and j</td>\n",
    "    </tr>\n",
    "    <tr>\n",
    "        <td>$dist(i, j)$</td>\n",
    "        <td>Distance between items i and j</td>\n",
    "    </tr>\n",
    "    <tr>\n",
    "        <td>$novelty(i, u)$</td>\n",
    "        <td>Novetly of item i for user u</td>\n",
    "    </tr>\n",
    "    <tr>\n",
    "        <td>$unexpectedness(i, u)$</td>\n",
    "        <td>Unexpectedness of item i for user u</td>\n",
    "    </tr>\n",
    "    <tr>\n",
    "        <td>$relevance(i, u)$</td>\n",
    "        <td>Relevance of item i for user u</td>\n",
    "    </tr>\n",
    "    <tr>\n",
    "        <td>$serendipity(i, u)$</td>\n",
    "        <td>Serendipity of item i for user u</td>\n",
    "    </tr>\n",
    "</table>"
   ]
  },
  {
   "cell_type": "markdown",
   "metadata": {},
   "source": [
    "# Metrics"
   ]
  },
  {
   "cell_type": "markdown",
   "metadata": {},
   "source": [
    "## Novelty"
   ]
  },
  {
   "cell_type": "markdown",
   "metadata": {},
   "source": [
    "Metrics based on an items distance from user profile (items a user has consumed) [S. Vargas, P. Castells]"
   ]
  },
  {
   "cell_type": "markdown",
   "metadata": {},
   "source": [
    "$$ dist(i, j) = 1 - sim(i, j) $$"
   ]
  },
  {
   "cell_type": "markdown",
   "metadata": {},
   "source": [
    "Similarity metric must satisfy $sim(i, j) \\in [0, 1]$"
   ]
  },
  {
   "cell_type": "markdown",
   "metadata": {},
   "source": [
    "$ novelty_1 $ returns the distance to the most dissimilar item (among all rated items)"
   ]
  },
  {
   "cell_type": "markdown",
   "metadata": {},
   "source": [
    "$$ novelty_1(i, u) = \\min_{j \\in I_{u}} {dist(i, j)} $$"
   ]
  },
  {
   "cell_type": "markdown",
   "metadata": {},
   "source": [
    "$ novelty_2 $ returns the mean of all distances"
   ]
  },
  {
   "cell_type": "markdown",
   "metadata": {},
   "source": [
    "$$ novelty_2(i, u) = \\frac {1}{|I_{u}|} \\sum_{j \\in I_{u}} dist(i, j) $$"
   ]
  },
  {
   "cell_type": "code",
   "execution_count": 4,
   "metadata": {},
   "outputs": [],
   "source": [
    "def similarity(i, j):\n",
    "    return cosine(i - j)\n",
    "\n",
    "def distance(i, j):\n",
    "    return 1 - similarity(i, j)"
   ]
  },
  {
   "cell_type": "code",
   "execution_count": 5,
   "metadata": {},
   "outputs": [],
   "source": [
    "def novelty1(i, rated_items):\n",
    "    \"\"\"\n",
    "    The first variation of novelty metric proposed by S. Vargas and P. Castells.\n",
    "    \n",
    "    Parameters\n",
    "    ----------\n",
    "    i\n",
    "        Item to be computed novelty of\n",
    "    rated_items : list\n",
    "        Rated items by user, for who we compute the novelty of item i\n",
    "    \"\"\"\n",
    "    return np.min([distance(i, j) for j in rated_items])"
   ]
  },
  {
   "cell_type": "code",
   "execution_count": 6,
   "metadata": {},
   "outputs": [],
   "source": [
    "def novelty2(i, rated_items):\n",
    "    \"\"\"\n",
    "    The second variation of novelty metric proposed by S. Vargas and P. Castells.\n",
    "    \n",
    "    Parameters\n",
    "    ----------\n",
    "    i\n",
    "        Item to be computed novelty of\n",
    "    rated_items : list\n",
    "        Rated items by user, for who we compute the novelty of item i\n",
    "    \"\"\"\n",
    "    return (1 / len(rated_items)) * np.sum([distance(i, j) for j in rated_items])"
   ]
  },
  {
   "cell_type": "markdown",
   "metadata": {},
   "source": [
    "## Unexpectedness"
   ]
  },
  {
   "cell_type": "markdown",
   "metadata": {},
   "source": [
    "<table>\n",
    "    <tr>\n",
    "        <td>$p(i)$</td>\n",
    "        <td>Probability that any user has rated item i</td>\n",
    "    </tr>\n",
    "    <tr>\n",
    "        <td>$p(i, j)$</td>\n",
    "        <td>Probability that items i and j are rated together</td>\n",
    "    </tr>\n",
    "</table>"
   ]
  },
  {
   "cell_type": "markdown",
   "metadata": {},
   "source": [
    "<i>Point-wise mutual information</i> indicates how similar two items are based on the numbers of users who have rated both items and each item separately: [Kaminskas, Bridge]"
   ]
  },
  {
   "cell_type": "markdown",
   "metadata": {},
   "source": [
    "$$ PMI(i, j) = -\\log_2 \\frac {p(i, j)}{p(i)p(j)}/\\log_2 p(i, j) = - \\frac {\\log_2 {p(i, j)} - \\log_2 {p(i)p(j)}} {\\log_2 p(i, j)} $$"
   ]
  },
  {
   "cell_type": "markdown",
   "metadata": {},
   "source": [
    "$PMI(i, j) \\in [-1, 1]$, where -1 indicates that items i and j are never rated together, while 1 indicates that items i and j are always rated together."
   ]
  },
  {
   "cell_type": "code",
   "execution_count": 7,
   "metadata": {},
   "outputs": [],
   "source": [
    "def single_probability(i):\n",
    "    \"\"\"\n",
    "    Returns the probability that user has rated the film.\n",
    "    \n",
    "    Parameters\n",
    "    ----------\n",
    "    i : np.array\n",
    "        Numpy 1-D array containing item ratings\n",
    "    \"\"\"\n",
    "    return np.sum(i, axis=0) / i.shape[0]"
   ]
  },
  {
   "cell_type": "code",
   "execution_count": 8,
   "metadata": {},
   "outputs": [
    {
     "data": {
      "text/html": [
       "<div>\n",
       "<style scoped>\n",
       "    .dataframe tbody tr th:only-of-type {\n",
       "        vertical-align: middle;\n",
       "    }\n",
       "\n",
       "    .dataframe tbody tr th {\n",
       "        vertical-align: top;\n",
       "    }\n",
       "\n",
       "    .dataframe thead th {\n",
       "        text-align: right;\n",
       "    }\n",
       "</style>\n",
       "<table border=\"1\" class=\"dataframe\">\n",
       "  <thead>\n",
       "    <tr style=\"text-align: right;\">\n",
       "      <th></th>\n",
       "      <th>Star Wars</th>\n",
       "      <th>Matrix</th>\n",
       "      <th>Avengers</th>\n",
       "      <th>Lord Of The Rings</th>\n",
       "    </tr>\n",
       "    <tr>\n",
       "      <th>User</th>\n",
       "      <th></th>\n",
       "      <th></th>\n",
       "      <th></th>\n",
       "      <th></th>\n",
       "    </tr>\n",
       "  </thead>\n",
       "  <tbody>\n",
       "    <tr>\n",
       "      <th>0</th>\n",
       "      <td>1</td>\n",
       "      <td>1</td>\n",
       "      <td>0</td>\n",
       "      <td>0</td>\n",
       "    </tr>\n",
       "    <tr>\n",
       "      <th>1</th>\n",
       "      <td>0</td>\n",
       "      <td>1</td>\n",
       "      <td>1</td>\n",
       "      <td>0</td>\n",
       "    </tr>\n",
       "    <tr>\n",
       "      <th>2</th>\n",
       "      <td>0</td>\n",
       "      <td>0</td>\n",
       "      <td>1</td>\n",
       "      <td>1</td>\n",
       "    </tr>\n",
       "    <tr>\n",
       "      <th>3</th>\n",
       "      <td>1</td>\n",
       "      <td>0</td>\n",
       "      <td>1</td>\n",
       "      <td>1</td>\n",
       "    </tr>\n",
       "    <tr>\n",
       "      <th>4</th>\n",
       "      <td>0</td>\n",
       "      <td>0</td>\n",
       "      <td>1</td>\n",
       "      <td>0</td>\n",
       "    </tr>\n",
       "  </tbody>\n",
       "</table>\n",
       "</div>"
      ],
      "text/plain": [
       "      Star Wars  Matrix  Avengers  Lord Of The Rings\n",
       "User                                                \n",
       "0             1       1         0                  0\n",
       "1             0       1         1                  0\n",
       "2             0       0         1                  1\n",
       "3             1       0         1                  1\n",
       "4             0       0         1                  0"
      ]
     },
     "execution_count": 8,
     "metadata": {},
     "output_type": "execute_result"
    }
   ],
   "source": [
    "ratings"
   ]
  },
  {
   "cell_type": "code",
   "execution_count": 9,
   "metadata": {},
   "outputs": [],
   "source": [
    "def together_rated_probability(i, j):\n",
    "    \"\"\"\n",
    "    Returns the probability that both items are rated together.\n",
    "    \n",
    "    Parameters\n",
    "    ----------\n",
    "    i : np.array\n",
    "        Numpy 1-D array containing item ratings of the first item\n",
    "    j : np.array\n",
    "        Numpy 1-D array containing item ratings of the second item\n",
    "    \"\"\"\n",
    "    return np.sum([i + j == 2]) / i.shape[0]"
   ]
  },
  {
   "cell_type": "code",
   "execution_count": 10,
   "metadata": {},
   "outputs": [
    {
     "data": {
      "text/plain": [
       "0.4"
      ]
     },
     "execution_count": 10,
     "metadata": {},
     "output_type": "execute_result"
    }
   ],
   "source": [
    "star_wars_rating_prob = single_probability(ratings['Star Wars'])\n",
    "star_wars_rating_prob"
   ]
  },
  {
   "cell_type": "code",
   "execution_count": 11,
   "metadata": {},
   "outputs": [
    {
     "data": {
      "text/plain": [
       "0.2"
      ]
     },
     "execution_count": 11,
     "metadata": {},
     "output_type": "execute_result"
    }
   ],
   "source": [
    "star_wars_avengers_rating_prob = together_rated_probability(ratings['Star Wars'], ratings['Avengers'])\n",
    "star_wars_avengers_rating_prob"
   ]
  },
  {
   "cell_type": "code",
   "execution_count": 12,
   "metadata": {},
   "outputs": [],
   "source": [
    "def pmi(i, j):\n",
    "    \"\"\"\n",
    "    Point-wise mutual information.\n",
    "    \"\"\"\n",
    "    p_i = single_probability(i)\n",
    "    p_j = single_probability(j)\n",
    "    p_i_j = together_rated_probability(i, j)\n",
    "    return -np.log2(p_i_j / (p_i * p_j)) / np.log2(p_i_j)"
   ]
  },
  {
   "cell_type": "markdown",
   "metadata": {},
   "source": [
    "Star Wars and Avengers aren't usually rated together."
   ]
  },
  {
   "cell_type": "code",
   "execution_count": 13,
   "metadata": {},
   "outputs": [
    {
     "data": {
      "text/plain": [
       "-0.2920296742201793"
      ]
     },
     "execution_count": 13,
     "metadata": {},
     "output_type": "execute_result"
    }
   ],
   "source": [
    "pmi(ratings['Star Wars'], ratings['Avengers'])"
   ]
  },
  {
   "cell_type": "markdown",
   "metadata": {},
   "source": [
    "Based on PMI, unexpectedness has two variations:"
   ]
  },
  {
   "cell_type": "markdown",
   "metadata": {},
   "source": [
    "$$ unexpectedness_{1}(i, u) = \\max_{j \\in I_{u}} {PMI(i, j)} $$"
   ]
  },
  {
   "cell_type": "markdown",
   "metadata": {},
   "source": [
    "$$ unexpectedness_{2}(i, u) = \\frac {1}{|I_{u}|} \\sum_{j \\in I_{u}} {PMI(i, j)} $$"
   ]
  },
  {
   "cell_type": "code",
   "execution_count": 14,
   "metadata": {},
   "outputs": [],
   "source": [
    "def unexpectedness1(i, rated_items):\n",
    "    return np.max([pmi(i, j) for j in rated_items])"
   ]
  },
  {
   "cell_type": "code",
   "execution_count": 15,
   "metadata": {},
   "outputs": [],
   "source": [
    "def unexpectedness2(i, rated_items):\n",
    "    return 1 / rated_items.shape[0] * np.max([pmi(i, j) for j in rated_items])"
   ]
  },
  {
   "cell_type": "markdown",
   "metadata": {},
   "source": [
    "## Relevance"
   ]
  },
  {
   "cell_type": "markdown",
   "metadata": {},
   "source": [
    "We propose 2 variations based on the user profile:"
   ]
  },
  {
   "cell_type": "markdown",
   "metadata": {},
   "source": [
    "$$ relevance_{1}(i, u) = \\min_{j \\in S \\subset I_{u}} sim(i, j) $$"
   ]
  },
  {
   "cell_type": "markdown",
   "metadata": {},
   "source": [
    "$$ relevance_{2}(i, u) = \\frac {1}{|I_{u}|} \\sum_{j \\in S \\subset I_{u}} sim(i, j) $$"
   ]
  },
  {
   "cell_type": "markdown",
   "metadata": {},
   "source": [
    "Where *S* is a subset of rated items by user u, e.g. ***k*** most recent interactions."
   ]
  },
  {
   "cell_type": "markdown",
   "metadata": {},
   "source": [
    "## Serendipity"
   ]
  },
  {
   "cell_type": "markdown",
   "metadata": {},
   "source": [
    "We suggest a serendipity metric, that takes into account item's novelty, unexpectedness and relevance. "
   ]
  },
  {
   "cell_type": "markdown",
   "metadata": {},
   "source": [
    "$$ serendipity(i, u) = \\alpha \\ novelty(i, u) + \\beta \\ unexpectedness(i, u) + \\gamma \\ relevance(i, u) $$"
   ]
  },
  {
   "cell_type": "markdown",
   "metadata": {},
   "source": [
    "$ \\alpha + \\beta + \\gamma = 1 $ equation must be satisfied, where coefficients can be found empirically or adjusted by the learning algorithm."
   ]
  },
  {
   "cell_type": "markdown",
   "metadata": {},
   "source": [
    "If any of three coefficients is set to 0, then the serendipity definition may vary. [A Survey of Serendipity in Recommender Systems, Kotkov, Wang & Veijalainen]"
   ]
  },
  {
   "cell_type": "markdown",
   "metadata": {},
   "source": [
    "# Evaluation"
   ]
  },
  {
   "cell_type": "markdown",
   "metadata": {},
   "source": [
    "Movies dataset."
   ]
  },
  {
   "cell_type": "code",
   "execution_count": 16,
   "metadata": {},
   "outputs": [],
   "source": [
    "movies_df = pd.read_csv('../jupyter/data/movies.csv')"
   ]
  },
  {
   "cell_type": "code",
   "execution_count": 17,
   "metadata": {},
   "outputs": [
    {
     "data": {
      "text/html": [
       "<div>\n",
       "<style scoped>\n",
       "    .dataframe tbody tr th:only-of-type {\n",
       "        vertical-align: middle;\n",
       "    }\n",
       "\n",
       "    .dataframe tbody tr th {\n",
       "        vertical-align: top;\n",
       "    }\n",
       "\n",
       "    .dataframe thead th {\n",
       "        text-align: right;\n",
       "    }\n",
       "</style>\n",
       "<table border=\"1\" class=\"dataframe\">\n",
       "  <thead>\n",
       "    <tr style=\"text-align: right;\">\n",
       "      <th></th>\n",
       "      <th>movieId</th>\n",
       "      <th>title</th>\n",
       "      <th>genres</th>\n",
       "    </tr>\n",
       "  </thead>\n",
       "  <tbody>\n",
       "    <tr>\n",
       "      <th>0</th>\n",
       "      <td>1</td>\n",
       "      <td>Toy Story (1995)</td>\n",
       "      <td>Adventure|Animation|Children|Comedy|Fantasy</td>\n",
       "    </tr>\n",
       "    <tr>\n",
       "      <th>1</th>\n",
       "      <td>2</td>\n",
       "      <td>Jumanji (1995)</td>\n",
       "      <td>Adventure|Children|Fantasy</td>\n",
       "    </tr>\n",
       "    <tr>\n",
       "      <th>2</th>\n",
       "      <td>3</td>\n",
       "      <td>Grumpier Old Men (1995)</td>\n",
       "      <td>Comedy|Romance</td>\n",
       "    </tr>\n",
       "    <tr>\n",
       "      <th>3</th>\n",
       "      <td>4</td>\n",
       "      <td>Waiting to Exhale (1995)</td>\n",
       "      <td>Comedy|Drama|Romance</td>\n",
       "    </tr>\n",
       "    <tr>\n",
       "      <th>4</th>\n",
       "      <td>5</td>\n",
       "      <td>Father of the Bride Part II (1995)</td>\n",
       "      <td>Comedy</td>\n",
       "    </tr>\n",
       "  </tbody>\n",
       "</table>\n",
       "</div>"
      ],
      "text/plain": [
       "   movieId                               title  \\\n",
       "0        1                    Toy Story (1995)   \n",
       "1        2                      Jumanji (1995)   \n",
       "2        3             Grumpier Old Men (1995)   \n",
       "3        4            Waiting to Exhale (1995)   \n",
       "4        5  Father of the Bride Part II (1995)   \n",
       "\n",
       "                                        genres  \n",
       "0  Adventure|Animation|Children|Comedy|Fantasy  \n",
       "1                   Adventure|Children|Fantasy  \n",
       "2                               Comedy|Romance  \n",
       "3                         Comedy|Drama|Romance  \n",
       "4                                       Comedy  "
      ]
     },
     "execution_count": 17,
     "metadata": {},
     "output_type": "execute_result"
    }
   ],
   "source": [
    "movies_df.head()"
   ]
  },
  {
   "cell_type": "markdown",
   "metadata": {},
   "source": [
    "Movies dataset with one-hot encoding."
   ]
  },
  {
   "cell_type": "code",
   "execution_count": 18,
   "metadata": {},
   "outputs": [],
   "source": [
    "movies_extended_df = load('/root/Downloads/t_film_profile_sem_0_and_com_001.pickle')"
   ]
  },
  {
   "cell_type": "code",
   "execution_count": 19,
   "metadata": {},
   "outputs": [
    {
     "data": {
      "text/html": [
       "<div>\n",
       "<style scoped>\n",
       "    .dataframe tbody tr th:only-of-type {\n",
       "        vertical-align: middle;\n",
       "    }\n",
       "\n",
       "    .dataframe tbody tr th {\n",
       "        vertical-align: top;\n",
       "    }\n",
       "\n",
       "    .dataframe thead th {\n",
       "        text-align: right;\n",
       "    }\n",
       "</style>\n",
       "<table border=\"1\" class=\"dataframe\">\n",
       "  <thead>\n",
       "    <tr style=\"text-align: right;\">\n",
       "      <th>node</th>\n",
       "      <th>30</th>\n",
       "      <th>65</th>\n",
       "      <th>74</th>\n",
       "      <th>75</th>\n",
       "      <th>83</th>\n",
       "      <th>90</th>\n",
       "      <th>100</th>\n",
       "      <th>107</th>\n",
       "      <th>108</th>\n",
       "      <th>110</th>\n",
       "      <th>...</th>\n",
       "      <th>70078755</th>\n",
       "      <th>70078760</th>\n",
       "      <th>70078761</th>\n",
       "      <th>70078764</th>\n",
       "      <th>70078766</th>\n",
       "      <th>70078779</th>\n",
       "      <th>70078781</th>\n",
       "      <th>70078784</th>\n",
       "      <th>70078788</th>\n",
       "      <th>70078789</th>\n",
       "    </tr>\n",
       "    <tr>\n",
       "      <th>movieId</th>\n",
       "      <th></th>\n",
       "      <th></th>\n",
       "      <th></th>\n",
       "      <th></th>\n",
       "      <th></th>\n",
       "      <th></th>\n",
       "      <th></th>\n",
       "      <th></th>\n",
       "      <th></th>\n",
       "      <th></th>\n",
       "      <th></th>\n",
       "      <th></th>\n",
       "      <th></th>\n",
       "      <th></th>\n",
       "      <th></th>\n",
       "      <th></th>\n",
       "      <th></th>\n",
       "      <th></th>\n",
       "      <th></th>\n",
       "      <th></th>\n",
       "      <th></th>\n",
       "    </tr>\n",
       "  </thead>\n",
       "  <tbody>\n",
       "    <tr>\n",
       "      <th>2</th>\n",
       "      <td>0.0</td>\n",
       "      <td>0.0</td>\n",
       "      <td>0.0</td>\n",
       "      <td>0.0</td>\n",
       "      <td>0.0</td>\n",
       "      <td>0.0</td>\n",
       "      <td>0.0</td>\n",
       "      <td>0.0</td>\n",
       "      <td>0.0</td>\n",
       "      <td>0.0</td>\n",
       "      <td>...</td>\n",
       "      <td>0.0</td>\n",
       "      <td>0.0</td>\n",
       "      <td>0.0</td>\n",
       "      <td>0.0</td>\n",
       "      <td>0.0</td>\n",
       "      <td>0.0</td>\n",
       "      <td>0.0</td>\n",
       "      <td>0.0</td>\n",
       "      <td>0.0</td>\n",
       "      <td>0.0</td>\n",
       "    </tr>\n",
       "    <tr>\n",
       "      <th>3</th>\n",
       "      <td>0.0</td>\n",
       "      <td>0.0</td>\n",
       "      <td>0.0</td>\n",
       "      <td>0.0</td>\n",
       "      <td>0.0</td>\n",
       "      <td>0.0</td>\n",
       "      <td>0.0</td>\n",
       "      <td>0.0</td>\n",
       "      <td>0.0</td>\n",
       "      <td>0.0</td>\n",
       "      <td>...</td>\n",
       "      <td>0.0</td>\n",
       "      <td>0.0</td>\n",
       "      <td>0.0</td>\n",
       "      <td>0.0</td>\n",
       "      <td>0.0</td>\n",
       "      <td>0.0</td>\n",
       "      <td>0.0</td>\n",
       "      <td>0.0</td>\n",
       "      <td>0.0</td>\n",
       "      <td>0.0</td>\n",
       "    </tr>\n",
       "    <tr>\n",
       "      <th>5</th>\n",
       "      <td>0.0</td>\n",
       "      <td>0.0</td>\n",
       "      <td>0.0</td>\n",
       "      <td>0.0</td>\n",
       "      <td>0.0</td>\n",
       "      <td>0.0</td>\n",
       "      <td>0.0</td>\n",
       "      <td>0.0</td>\n",
       "      <td>0.0</td>\n",
       "      <td>0.0</td>\n",
       "      <td>...</td>\n",
       "      <td>0.0</td>\n",
       "      <td>0.0</td>\n",
       "      <td>0.0</td>\n",
       "      <td>0.0</td>\n",
       "      <td>0.0</td>\n",
       "      <td>0.0</td>\n",
       "      <td>0.0</td>\n",
       "      <td>0.0</td>\n",
       "      <td>0.0</td>\n",
       "      <td>0.0</td>\n",
       "    </tr>\n",
       "    <tr>\n",
       "      <th>6</th>\n",
       "      <td>0.0</td>\n",
       "      <td>0.0</td>\n",
       "      <td>0.0</td>\n",
       "      <td>0.0</td>\n",
       "      <td>0.0</td>\n",
       "      <td>0.0</td>\n",
       "      <td>0.0</td>\n",
       "      <td>0.0</td>\n",
       "      <td>0.0</td>\n",
       "      <td>0.0</td>\n",
       "      <td>...</td>\n",
       "      <td>0.0</td>\n",
       "      <td>0.0</td>\n",
       "      <td>0.0</td>\n",
       "      <td>0.0</td>\n",
       "      <td>0.0</td>\n",
       "      <td>0.0</td>\n",
       "      <td>0.0</td>\n",
       "      <td>0.0</td>\n",
       "      <td>0.0</td>\n",
       "      <td>0.0</td>\n",
       "    </tr>\n",
       "    <tr>\n",
       "      <th>11</th>\n",
       "      <td>0.0</td>\n",
       "      <td>0.0</td>\n",
       "      <td>0.0</td>\n",
       "      <td>0.0</td>\n",
       "      <td>0.0</td>\n",
       "      <td>0.0</td>\n",
       "      <td>0.0</td>\n",
       "      <td>0.0</td>\n",
       "      <td>0.0</td>\n",
       "      <td>0.0</td>\n",
       "      <td>...</td>\n",
       "      <td>0.0</td>\n",
       "      <td>0.0</td>\n",
       "      <td>0.0</td>\n",
       "      <td>0.0</td>\n",
       "      <td>0.0</td>\n",
       "      <td>0.0</td>\n",
       "      <td>0.0</td>\n",
       "      <td>0.0</td>\n",
       "      <td>0.0</td>\n",
       "      <td>0.0</td>\n",
       "    </tr>\n",
       "    <tr>\n",
       "      <th>...</th>\n",
       "      <td>...</td>\n",
       "      <td>...</td>\n",
       "      <td>...</td>\n",
       "      <td>...</td>\n",
       "      <td>...</td>\n",
       "      <td>...</td>\n",
       "      <td>...</td>\n",
       "      <td>...</td>\n",
       "      <td>...</td>\n",
       "      <td>...</td>\n",
       "      <td>...</td>\n",
       "      <td>...</td>\n",
       "      <td>...</td>\n",
       "      <td>...</td>\n",
       "      <td>...</td>\n",
       "      <td>...</td>\n",
       "      <td>...</td>\n",
       "      <td>...</td>\n",
       "      <td>...</td>\n",
       "      <td>...</td>\n",
       "      <td>...</td>\n",
       "    </tr>\n",
       "    <tr>\n",
       "      <th>465044</th>\n",
       "      <td>0.0</td>\n",
       "      <td>0.0</td>\n",
       "      <td>0.0</td>\n",
       "      <td>0.0</td>\n",
       "      <td>0.0</td>\n",
       "      <td>0.0</td>\n",
       "      <td>0.0</td>\n",
       "      <td>0.0</td>\n",
       "      <td>0.0</td>\n",
       "      <td>0.0</td>\n",
       "      <td>...</td>\n",
       "      <td>0.0</td>\n",
       "      <td>0.0</td>\n",
       "      <td>0.0</td>\n",
       "      <td>0.0</td>\n",
       "      <td>0.0</td>\n",
       "      <td>0.0</td>\n",
       "      <td>0.0</td>\n",
       "      <td>0.0</td>\n",
       "      <td>0.0</td>\n",
       "      <td>0.0</td>\n",
       "    </tr>\n",
       "    <tr>\n",
       "      <th>467731</th>\n",
       "      <td>0.0</td>\n",
       "      <td>0.0</td>\n",
       "      <td>0.0</td>\n",
       "      <td>0.0</td>\n",
       "      <td>0.0</td>\n",
       "      <td>0.0</td>\n",
       "      <td>0.0</td>\n",
       "      <td>0.0</td>\n",
       "      <td>0.0</td>\n",
       "      <td>0.0</td>\n",
       "      <td>...</td>\n",
       "      <td>0.0</td>\n",
       "      <td>0.0</td>\n",
       "      <td>0.0</td>\n",
       "      <td>0.0</td>\n",
       "      <td>0.0</td>\n",
       "      <td>0.0</td>\n",
       "      <td>0.0</td>\n",
       "      <td>0.0</td>\n",
       "      <td>0.0</td>\n",
       "      <td>0.0</td>\n",
       "    </tr>\n",
       "    <tr>\n",
       "      <th>468343</th>\n",
       "      <td>0.0</td>\n",
       "      <td>0.0</td>\n",
       "      <td>0.0</td>\n",
       "      <td>0.0</td>\n",
       "      <td>0.0</td>\n",
       "      <td>0.0</td>\n",
       "      <td>0.0</td>\n",
       "      <td>0.0</td>\n",
       "      <td>0.0</td>\n",
       "      <td>0.0</td>\n",
       "      <td>...</td>\n",
       "      <td>0.0</td>\n",
       "      <td>0.0</td>\n",
       "      <td>0.0</td>\n",
       "      <td>0.0</td>\n",
       "      <td>0.0</td>\n",
       "      <td>0.0</td>\n",
       "      <td>0.0</td>\n",
       "      <td>0.0</td>\n",
       "      <td>0.0</td>\n",
       "      <td>0.0</td>\n",
       "    </tr>\n",
       "    <tr>\n",
       "      <th>468707</th>\n",
       "      <td>0.0</td>\n",
       "      <td>0.0</td>\n",
       "      <td>0.0</td>\n",
       "      <td>0.0</td>\n",
       "      <td>0.0</td>\n",
       "      <td>0.0</td>\n",
       "      <td>0.0</td>\n",
       "      <td>0.0</td>\n",
       "      <td>0.0</td>\n",
       "      <td>0.0</td>\n",
       "      <td>...</td>\n",
       "      <td>0.0</td>\n",
       "      <td>0.0</td>\n",
       "      <td>0.0</td>\n",
       "      <td>0.0</td>\n",
       "      <td>0.0</td>\n",
       "      <td>0.0</td>\n",
       "      <td>0.0</td>\n",
       "      <td>0.0</td>\n",
       "      <td>0.0</td>\n",
       "      <td>0.0</td>\n",
       "    </tr>\n",
       "    <tr>\n",
       "      <th>469172</th>\n",
       "      <td>0.0</td>\n",
       "      <td>0.0</td>\n",
       "      <td>0.0</td>\n",
       "      <td>0.0</td>\n",
       "      <td>0.0</td>\n",
       "      <td>0.0</td>\n",
       "      <td>0.0</td>\n",
       "      <td>0.0</td>\n",
       "      <td>0.0</td>\n",
       "      <td>0.0</td>\n",
       "      <td>...</td>\n",
       "      <td>0.0</td>\n",
       "      <td>0.0</td>\n",
       "      <td>0.0</td>\n",
       "      <td>0.0</td>\n",
       "      <td>0.0</td>\n",
       "      <td>0.0</td>\n",
       "      <td>0.0</td>\n",
       "      <td>0.0</td>\n",
       "      <td>0.0</td>\n",
       "      <td>0.0</td>\n",
       "    </tr>\n",
       "  </tbody>\n",
       "</table>\n",
       "<p>45267 rows × 28675 columns</p>\n",
       "</div>"
      ],
      "text/plain": [
       "node     30        65        74        75        83        90        100       \\\n",
       "movieId                                                                         \n",
       "2             0.0       0.0       0.0       0.0       0.0       0.0       0.0   \n",
       "3             0.0       0.0       0.0       0.0       0.0       0.0       0.0   \n",
       "5             0.0       0.0       0.0       0.0       0.0       0.0       0.0   \n",
       "6             0.0       0.0       0.0       0.0       0.0       0.0       0.0   \n",
       "11            0.0       0.0       0.0       0.0       0.0       0.0       0.0   \n",
       "...           ...       ...       ...       ...       ...       ...       ...   \n",
       "465044        0.0       0.0       0.0       0.0       0.0       0.0       0.0   \n",
       "467731        0.0       0.0       0.0       0.0       0.0       0.0       0.0   \n",
       "468343        0.0       0.0       0.0       0.0       0.0       0.0       0.0   \n",
       "468707        0.0       0.0       0.0       0.0       0.0       0.0       0.0   \n",
       "469172        0.0       0.0       0.0       0.0       0.0       0.0       0.0   \n",
       "\n",
       "node     107       108       110       ...  70078755  70078760  70078761  \\\n",
       "movieId                                ...                                 \n",
       "2             0.0       0.0       0.0  ...       0.0       0.0       0.0   \n",
       "3             0.0       0.0       0.0  ...       0.0       0.0       0.0   \n",
       "5             0.0       0.0       0.0  ...       0.0       0.0       0.0   \n",
       "6             0.0       0.0       0.0  ...       0.0       0.0       0.0   \n",
       "11            0.0       0.0       0.0  ...       0.0       0.0       0.0   \n",
       "...           ...       ...       ...  ...       ...       ...       ...   \n",
       "465044        0.0       0.0       0.0  ...       0.0       0.0       0.0   \n",
       "467731        0.0       0.0       0.0  ...       0.0       0.0       0.0   \n",
       "468343        0.0       0.0       0.0  ...       0.0       0.0       0.0   \n",
       "468707        0.0       0.0       0.0  ...       0.0       0.0       0.0   \n",
       "469172        0.0       0.0       0.0  ...       0.0       0.0       0.0   \n",
       "\n",
       "node     70078764  70078766  70078779  70078781  70078784  70078788  70078789  \n",
       "movieId                                                                        \n",
       "2             0.0       0.0       0.0       0.0       0.0       0.0       0.0  \n",
       "3             0.0       0.0       0.0       0.0       0.0       0.0       0.0  \n",
       "5             0.0       0.0       0.0       0.0       0.0       0.0       0.0  \n",
       "6             0.0       0.0       0.0       0.0       0.0       0.0       0.0  \n",
       "11            0.0       0.0       0.0       0.0       0.0       0.0       0.0  \n",
       "...           ...       ...       ...       ...       ...       ...       ...  \n",
       "465044        0.0       0.0       0.0       0.0       0.0       0.0       0.0  \n",
       "467731        0.0       0.0       0.0       0.0       0.0       0.0       0.0  \n",
       "468343        0.0       0.0       0.0       0.0       0.0       0.0       0.0  \n",
       "468707        0.0       0.0       0.0       0.0       0.0       0.0       0.0  \n",
       "469172        0.0       0.0       0.0       0.0       0.0       0.0       0.0  \n",
       "\n",
       "[45267 rows x 28675 columns]"
      ]
     },
     "execution_count": 19,
     "metadata": {},
     "output_type": "execute_result"
    }
   ],
   "source": [
    "movies_extended_df"
   ]
  },
  {
   "cell_type": "markdown",
   "metadata": {},
   "source": [
    "Rating dataset that contains every user"
   ]
  },
  {
   "cell_type": "code",
   "execution_count": 20,
   "metadata": {},
   "outputs": [],
   "source": [
    "# ratings_df = pd.read_csv('../jupyter/data/ratings.csv')\n",
    "# ratings_df = ratings_df.sort_values(['userId', 'timestamp'])"
   ]
  },
  {
   "cell_type": "code",
   "execution_count": 21,
   "metadata": {},
   "outputs": [],
   "source": [
    "# ratings_df.head()"
   ]
  },
  {
   "cell_type": "markdown",
   "metadata": {},
   "source": [
    "Rating dataset where users with <= 3 interactions are filtered out. "
   ]
  },
  {
   "cell_type": "code",
   "execution_count": 22,
   "metadata": {},
   "outputs": [],
   "source": [
    "ratings_cleaned_df = pd.read_csv('../jupyter/test_datasets4/df_ratings_drop_users_5.csv')\n",
    "ratings_cleaned_df = ratings_cleaned_df.sort_values(['userId', 'timestamp'])"
   ]
  },
  {
   "cell_type": "code",
   "execution_count": 23,
   "metadata": {},
   "outputs": [
    {
     "data": {
      "text/html": [
       "<div>\n",
       "<style scoped>\n",
       "    .dataframe tbody tr th:only-of-type {\n",
       "        vertical-align: middle;\n",
       "    }\n",
       "\n",
       "    .dataframe tbody tr th {\n",
       "        vertical-align: top;\n",
       "    }\n",
       "\n",
       "    .dataframe thead th {\n",
       "        text-align: right;\n",
       "    }\n",
       "</style>\n",
       "<table border=\"1\" class=\"dataframe\">\n",
       "  <thead>\n",
       "    <tr style=\"text-align: right;\">\n",
       "      <th></th>\n",
       "      <th>userId</th>\n",
       "      <th>movieId</th>\n",
       "      <th>rating</th>\n",
       "      <th>timestamp</th>\n",
       "    </tr>\n",
       "  </thead>\n",
       "  <tbody>\n",
       "    <tr>\n",
       "      <th>16772</th>\n",
       "      <td>0</td>\n",
       "      <td>145</td>\n",
       "      <td>3.0</td>\n",
       "      <td>1216755656</td>\n",
       "    </tr>\n",
       "    <tr>\n",
       "      <th>16773</th>\n",
       "      <td>0</td>\n",
       "      <td>1729</td>\n",
       "      <td>3.5</td>\n",
       "      <td>1216755676</td>\n",
       "    </tr>\n",
       "    <tr>\n",
       "      <th>16774</th>\n",
       "      <td>0</td>\n",
       "      <td>1953</td>\n",
       "      <td>3.5</td>\n",
       "      <td>1216755747</td>\n",
       "    </tr>\n",
       "    <tr>\n",
       "      <th>16775</th>\n",
       "      <td>0</td>\n",
       "      <td>249</td>\n",
       "      <td>3.0</td>\n",
       "      <td>1216755814</td>\n",
       "    </tr>\n",
       "    <tr>\n",
       "      <th>16776</th>\n",
       "      <td>0</td>\n",
       "      <td>431</td>\n",
       "      <td>4.0</td>\n",
       "      <td>1216922547</td>\n",
       "    </tr>\n",
       "    <tr>\n",
       "      <th>64364</th>\n",
       "      <td>1</td>\n",
       "      <td>1183</td>\n",
       "      <td>3.0</td>\n",
       "      <td>877373332</td>\n",
       "    </tr>\n",
       "    <tr>\n",
       "      <th>64365</th>\n",
       "      <td>1</td>\n",
       "      <td>1416</td>\n",
       "      <td>4.0</td>\n",
       "      <td>877373333</td>\n",
       "    </tr>\n",
       "    <tr>\n",
       "      <th>64366</th>\n",
       "      <td>1</td>\n",
       "      <td>1617</td>\n",
       "      <td>3.0</td>\n",
       "      <td>877373333</td>\n",
       "    </tr>\n",
       "    <tr>\n",
       "      <th>64367</th>\n",
       "      <td>2</td>\n",
       "      <td>2858</td>\n",
       "      <td>5.0</td>\n",
       "      <td>940199496</td>\n",
       "    </tr>\n",
       "    <tr>\n",
       "      <th>64368</th>\n",
       "      <td>2</td>\n",
       "      <td>2890</td>\n",
       "      <td>2.0</td>\n",
       "      <td>940199572</td>\n",
       "    </tr>\n",
       "    <tr>\n",
       "      <th>64369</th>\n",
       "      <td>2</td>\n",
       "      <td>2805</td>\n",
       "      <td>3.0</td>\n",
       "      <td>940200226</td>\n",
       "    </tr>\n",
       "    <tr>\n",
       "      <th>64370</th>\n",
       "      <td>3</td>\n",
       "      <td>527</td>\n",
       "      <td>4.0</td>\n",
       "      <td>1434747925</td>\n",
       "    </tr>\n",
       "    <tr>\n",
       "      <th>64371</th>\n",
       "      <td>3</td>\n",
       "      <td>318</td>\n",
       "      <td>4.0</td>\n",
       "      <td>1434747932</td>\n",
       "    </tr>\n",
       "    <tr>\n",
       "      <th>64372</th>\n",
       "      <td>3</td>\n",
       "      <td>593</td>\n",
       "      <td>4.5</td>\n",
       "      <td>1434747940</td>\n",
       "    </tr>\n",
       "    <tr>\n",
       "      <th>64373</th>\n",
       "      <td>3</td>\n",
       "      <td>109487</td>\n",
       "      <td>2.5</td>\n",
       "      <td>1434747954</td>\n",
       "    </tr>\n",
       "    <tr>\n",
       "      <th>64374</th>\n",
       "      <td>3</td>\n",
       "      <td>74228</td>\n",
       "      <td>4.5</td>\n",
       "      <td>1434747981</td>\n",
       "    </tr>\n",
       "    <tr>\n",
       "      <th>24716</th>\n",
       "      <td>4</td>\n",
       "      <td>2861</td>\n",
       "      <td>4.0</td>\n",
       "      <td>941553689</td>\n",
       "    </tr>\n",
       "    <tr>\n",
       "      <th>24717</th>\n",
       "      <td>4</td>\n",
       "      <td>2881</td>\n",
       "      <td>5.0</td>\n",
       "      <td>941553717</td>\n",
       "    </tr>\n",
       "    <tr>\n",
       "      <th>24718</th>\n",
       "      <td>4</td>\n",
       "      <td>2961</td>\n",
       "      <td>4.0</td>\n",
       "      <td>941553762</td>\n",
       "    </tr>\n",
       "    <tr>\n",
       "      <th>40260</th>\n",
       "      <td>5</td>\n",
       "      <td>69757</td>\n",
       "      <td>4.5</td>\n",
       "      <td>1378452452</td>\n",
       "    </tr>\n",
       "    <tr>\n",
       "      <th>40261</th>\n",
       "      <td>5</td>\n",
       "      <td>73017</td>\n",
       "      <td>4.0</td>\n",
       "      <td>1378452541</td>\n",
       "    </tr>\n",
       "    <tr>\n",
       "      <th>40262</th>\n",
       "      <td>5</td>\n",
       "      <td>96610</td>\n",
       "      <td>4.0</td>\n",
       "      <td>1378452811</td>\n",
       "    </tr>\n",
       "    <tr>\n",
       "      <th>40263</th>\n",
       "      <td>5</td>\n",
       "      <td>5066</td>\n",
       "      <td>3.0</td>\n",
       "      <td>1378452873</td>\n",
       "    </tr>\n",
       "    <tr>\n",
       "      <th>40264</th>\n",
       "      <td>5</td>\n",
       "      <td>94777</td>\n",
       "      <td>4.0</td>\n",
       "      <td>1378453103</td>\n",
       "    </tr>\n",
       "    <tr>\n",
       "      <th>24719</th>\n",
       "      <td>6</td>\n",
       "      <td>593</td>\n",
       "      <td>3.0</td>\n",
       "      <td>1029628311</td>\n",
       "    </tr>\n",
       "    <tr>\n",
       "      <th>24720</th>\n",
       "      <td>6</td>\n",
       "      <td>4855</td>\n",
       "      <td>2.0</td>\n",
       "      <td>1029628311</td>\n",
       "    </tr>\n",
       "    <tr>\n",
       "      <th>40265</th>\n",
       "      <td>7</td>\n",
       "      <td>165</td>\n",
       "      <td>2.0</td>\n",
       "      <td>980879373</td>\n",
       "    </tr>\n",
       "    <tr>\n",
       "      <th>40266</th>\n",
       "      <td>7</td>\n",
       "      <td>1961</td>\n",
       "      <td>5.0</td>\n",
       "      <td>980879373</td>\n",
       "    </tr>\n",
       "    <tr>\n",
       "      <th>40267</th>\n",
       "      <td>7</td>\n",
       "      <td>3489</td>\n",
       "      <td>3.0</td>\n",
       "      <td>980879403</td>\n",
       "    </tr>\n",
       "    <tr>\n",
       "      <th>40268</th>\n",
       "      <td>7</td>\n",
       "      <td>2023</td>\n",
       "      <td>3.0</td>\n",
       "      <td>980879440</td>\n",
       "    </tr>\n",
       "  </tbody>\n",
       "</table>\n",
       "</div>"
      ],
      "text/plain": [
       "       userId  movieId  rating   timestamp\n",
       "16772       0      145     3.0  1216755656\n",
       "16773       0     1729     3.5  1216755676\n",
       "16774       0     1953     3.5  1216755747\n",
       "16775       0      249     3.0  1216755814\n",
       "16776       0      431     4.0  1216922547\n",
       "64364       1     1183     3.0   877373332\n",
       "64365       1     1416     4.0   877373333\n",
       "64366       1     1617     3.0   877373333\n",
       "64367       2     2858     5.0   940199496\n",
       "64368       2     2890     2.0   940199572\n",
       "64369       2     2805     3.0   940200226\n",
       "64370       3      527     4.0  1434747925\n",
       "64371       3      318     4.0  1434747932\n",
       "64372       3      593     4.5  1434747940\n",
       "64373       3   109487     2.5  1434747954\n",
       "64374       3    74228     4.5  1434747981\n",
       "24716       4     2861     4.0   941553689\n",
       "24717       4     2881     5.0   941553717\n",
       "24718       4     2961     4.0   941553762\n",
       "40260       5    69757     4.5  1378452452\n",
       "40261       5    73017     4.0  1378452541\n",
       "40262       5    96610     4.0  1378452811\n",
       "40263       5     5066     3.0  1378452873\n",
       "40264       5    94777     4.0  1378453103\n",
       "24719       6      593     3.0  1029628311\n",
       "24720       6     4855     2.0  1029628311\n",
       "40265       7      165     2.0   980879373\n",
       "40266       7     1961     5.0   980879373\n",
       "40267       7     3489     3.0   980879403\n",
       "40268       7     2023     3.0   980879440"
      ]
     },
     "execution_count": 23,
     "metadata": {},
     "output_type": "execute_result"
    }
   ],
   "source": [
    "ratings_cleaned_df.head(30)"
   ]
  },
  {
   "cell_type": "code",
   "execution_count": 24,
   "metadata": {},
   "outputs": [
    {
     "data": {
      "text/html": [
       "<div>\n",
       "<style scoped>\n",
       "    .dataframe tbody tr th:only-of-type {\n",
       "        vertical-align: middle;\n",
       "    }\n",
       "\n",
       "    .dataframe tbody tr th {\n",
       "        vertical-align: top;\n",
       "    }\n",
       "\n",
       "    .dataframe thead th {\n",
       "        text-align: right;\n",
       "    }\n",
       "</style>\n",
       "<table border=\"1\" class=\"dataframe\">\n",
       "  <thead>\n",
       "    <tr style=\"text-align: right;\">\n",
       "      <th></th>\n",
       "      <th>userId</th>\n",
       "      <th>movieId</th>\n",
       "      <th>rating</th>\n",
       "      <th>timestamp</th>\n",
       "    </tr>\n",
       "  </thead>\n",
       "  <tbody>\n",
       "    <tr>\n",
       "      <th>64364</th>\n",
       "      <td>1</td>\n",
       "      <td>1183</td>\n",
       "      <td>3.0</td>\n",
       "      <td>877373332</td>\n",
       "    </tr>\n",
       "    <tr>\n",
       "      <th>64365</th>\n",
       "      <td>1</td>\n",
       "      <td>1416</td>\n",
       "      <td>4.0</td>\n",
       "      <td>877373333</td>\n",
       "    </tr>\n",
       "    <tr>\n",
       "      <th>64366</th>\n",
       "      <td>1</td>\n",
       "      <td>1617</td>\n",
       "      <td>3.0</td>\n",
       "      <td>877373333</td>\n",
       "    </tr>\n",
       "  </tbody>\n",
       "</table>\n",
       "</div>"
      ],
      "text/plain": [
       "       userId  movieId  rating  timestamp\n",
       "64364       1     1183     3.0  877373332\n",
       "64365       1     1416     4.0  877373333\n",
       "64366       1     1617     3.0  877373333"
      ]
     },
     "execution_count": 24,
     "metadata": {},
     "output_type": "execute_result"
    }
   ],
   "source": [
    "ratings_cleaned_df[ratings_cleaned_df['userId'] == 1]"
   ]
  },
  {
   "cell_type": "code",
   "execution_count": 29,
   "metadata": {},
   "outputs": [],
   "source": []
  },
  {
   "cell_type": "code",
   "execution_count": null,
   "metadata": {},
   "outputs": [],
   "source": []
  }
 ],
 "metadata": {
  "kernelspec": {
   "display_name": "Python 3",
   "language": "python",
   "name": "python3"
  },
  "language_info": {
   "codemirror_mode": {
    "name": "ipython",
    "version": 3
   },
   "file_extension": ".py",
   "mimetype": "text/x-python",
   "name": "python",
   "nbconvert_exporter": "python",
   "pygments_lexer": "ipython3",
   "version": "3.7.4"
  }
 },
 "nbformat": 4,
 "nbformat_minor": 4
}
