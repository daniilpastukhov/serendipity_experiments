{
 "cells": [
  {
   "cell_type": "code",
   "execution_count": 1,
   "id": "e47bf75b-47df-41a8-969c-8bd11b0c2471",
   "metadata": {},
   "outputs": [],
   "source": [
    "import sys\n",
    "sys.path.append(\"..\") # fix for relative imports"
   ]
  },
  {
   "cell_type": "code",
   "execution_count": 2,
   "id": "71e9973d-d87a-44c9-9458-251d89f3cc41",
   "metadata": {},
   "outputs": [],
   "source": [
    "import os\n",
    "\n",
    "import matplotlib.pyplot as plt\n",
    "import seaborn as sns\n",
    "\n",
    "from scipy.sparse import csr_matrix\n",
    "\n",
    "import numpy as np\n",
    "import pandas as pd\n",
    "from joblib import load\n",
    "\n",
    "from models.knn_popular import KNNpopularity\n",
    "import models.knn_popular_optimized as knn_opt"
   ]
  },
  {
   "cell_type": "code",
   "execution_count": 3,
   "id": "35fb1fb1-6c2d-47de-954c-b5bfece458ff",
   "metadata": {},
   "outputs": [],
   "source": [
    "DATA_PATH = '../data/movielens/1m/clean/'"
   ]
  },
  {
   "cell_type": "code",
   "execution_count": 4,
   "id": "2592b34c-2fd8-4197-9589-9a5f2730f44c",
   "metadata": {},
   "outputs": [],
   "source": [
    "train_data = pd.read_csv(os.path.join(DATA_PATH, 'train_data.csv'), index_col='userId')\n",
    "test_data = pd.read_csv(os.path.join(DATA_PATH, 'test_data.csv'), index_col='userId', nrows=1)"
   ]
  },
  {
   "cell_type": "code",
   "execution_count": 5,
   "id": "90c8fc36-65a0-42f2-8bb4-73f16f6111b7",
   "metadata": {},
   "outputs": [],
   "source": [
    "item_ratings = load(os.path.join(DATA_PATH, 'item_sum_dif_rating.pickle'))"
   ]
  },
  {
   "cell_type": "code",
   "execution_count": 6,
   "id": "7db419c9-52a9-4e45-8d37-5607c0c6d888",
   "metadata": {},
   "outputs": [],
   "source": [
    "knn = KNNpopularity('knn', '../config/config.ini', train_data, item_ratings)\n",
    "knn.preprocess()\n",
    "knn.fit({'K': 5})"
   ]
  },
  {
   "cell_type": "code",
   "execution_count": 7,
   "id": "2ee581e2-288f-4848-93af-eb14eaf92e81",
   "metadata": {},
   "outputs": [],
   "source": [
    "knn2 = knn_opt.KNNpopularity('knn', train_data, item_ratings)\n",
    "knn2.fit({'k': 5, 'beta': 0.0})"
   ]
  },
  {
   "cell_type": "code",
   "execution_count": 8,
   "id": "dd583611-2d9e-4505-b498-a59eb03a2b46",
   "metadata": {},
   "outputs": [],
   "source": [
    "preds = []\n",
    "for user_id, user_profile in test_data.iterrows():\n",
    "    preds.append(knn.predict(user_profile, 10))"
   ]
  },
  {
   "cell_type": "code",
   "execution_count": 9,
   "id": "d65085fc-7cdb-450a-ae20-e1f0bd42f686",
   "metadata": {},
   "outputs": [],
   "source": [
    "new_preds = []\n",
    "\n",
    "for user_id, user_profile in test_data.iterrows():\n",
    "    new_preds.append(knn2.predict(user_profile, 10))"
   ]
  },
  {
   "cell_type": "code",
   "execution_count": 10,
   "id": "000240c9-67f7-4bbc-a97d-2e90590ee0c9",
   "metadata": {},
   "outputs": [],
   "source": [
    "preds = np.array(preds)"
   ]
  },
  {
   "cell_type": "code",
   "execution_count": 11,
   "id": "e7b664f7-f5e9-4d23-86cf-75ce4df63159",
   "metadata": {},
   "outputs": [],
   "source": [
    "new_preds = np.array(new_preds)"
   ]
  },
  {
   "cell_type": "code",
   "execution_count": 12,
   "id": "0945088c-ae1b-4589-aa9b-66cf4f06c91c",
   "metadata": {},
   "outputs": [
    {
     "data": {
      "text/plain": [
       "array([[  47,  527, 1148, 2100, 2324, 2329, 2762, 2795, 2908, 3897]])"
      ]
     },
     "execution_count": 12,
     "metadata": {},
     "output_type": "execute_result"
    }
   ],
   "source": [
    "preds"
   ]
  },
  {
   "cell_type": "code",
   "execution_count": 13,
   "id": "9e4fd9c2-286f-4726-bbc9-89fba6eebb33",
   "metadata": {},
   "outputs": [
    {
     "data": {
      "text/plain": [
       "array([[3897, 2908, 2762, 2329, 2324,  527, 2100, 2795,   47, 1148]],\n",
       "      dtype=int64)"
      ]
     },
     "execution_count": 13,
     "metadata": {},
     "output_type": "execute_result"
    }
   ],
   "source": [
    "new_preds"
   ]
  },
  {
   "cell_type": "code",
   "execution_count": null,
   "id": "35133727-3295-4a1f-bd00-57c05c05bf15",
   "metadata": {},
   "outputs": [],
   "source": [
    "user = test_data.iloc[0]"
   ]
  },
  {
   "cell_type": "code",
   "execution_count": null,
   "id": "fed302e1-dd5b-4e27-b2b7-0d965ea4eb34",
   "metadata": {},
   "outputs": [],
   "source": [
    "#for user in test_data.iloc[:10]:\n",
    "user_csr_profile = csr_matrix(user)\n",
    "user_rated_items = user[user != 0].index\n",
    "rows, cols = user_csr_profile.nonzero()\n",
    "\n",
    "distances, indices = knn.model_knn.kneighbors(user_csr_profile)"
   ]
  },
  {
   "cell_type": "code",
   "execution_count": null,
   "id": "80417daa-2dc0-4988-8e2b-5700ef3b25e0",
   "metadata": {},
   "outputs": [],
   "source": [
    "distances2, indices2 = knn2.model_knn.kneighbors(user_csr_profile)"
   ]
  },
  {
   "cell_type": "code",
   "execution_count": null,
   "id": "7a2fa27f-8e61-4267-a978-ce4f8bec8c3f",
   "metadata": {},
   "outputs": [],
   "source": [
    "# %%timeit\n",
    "my_neighbors = indices.squeeze().tolist()\n",
    "my_neighbors_distance = distances.squeeze().tolist()\n",
    "\n",
    "my_neighbors2 = indices[0]\n",
    "my_neighbors_distance2 = distances[0]"
   ]
  },
  {
   "cell_type": "code",
   "execution_count": null,
   "id": "e043b8f4-76cf-42a4-8f58-2f85edc89f59",
   "metadata": {},
   "outputs": [],
   "source": [
    "neighbours_profiles = knn2.train_data.iloc[my_neighbors2]\n",
    "average_ratings = np.mean(neighbours_profiles[neighbours_profiles != 0], axis=1)"
   ]
  },
  {
   "cell_type": "code",
   "execution_count": null,
   "id": "2c0d6ce4-2ec2-485c-899c-eef141f467da",
   "metadata": {},
   "outputs": [],
   "source": [
    "popular_items = []\n",
    "popular_items_score = []\n",
    "\n",
    "for i in range(len(neighbours_profiles)):\n",
    "    row = neighbours_profiles.iloc[i]\n",
    "    user_average_rating = average_ratings.iloc[i]\n",
    "    best_items = row[row > user_average_rating]\n",
    "    popular_items.append(best_items.index)\n",
    "    score = (best_items.values - user_average_rating) * (1 - my_neighbors_distance2[i])\n",
    "    popular_items_score.append(score)"
   ]
  },
  {
   "cell_type": "code",
   "execution_count": null,
   "id": "48aa97ca-363c-41c4-9470-460aabfdb3d1",
   "metadata": {},
   "outputs": [],
   "source": [
    "a = pd.Series(np.zeros(user.shape[0]), index=user.index)\n",
    "for i in range(len(popular_items)):\n",
    "    a.loc[popular_items[i]] += popular_items_score[i]"
   ]
  },
  {
   "cell_type": "code",
   "execution_count": null,
   "id": "2d519d3c-feab-49a4-8661-f76ad7a569e6",
   "metadata": {},
   "outputs": [],
   "source": [
    "final_score = a / item_ratings.sort_values(by='movieId')['sum_rating'].values"
   ]
  },
  {
   "cell_type": "code",
   "execution_count": null,
   "id": "1ae81a77-490f-4052-b373-8ee181ef57a1",
   "metadata": {},
   "outputs": [],
   "source": [
    "final_score = final_score.loc[~final_score.index.isin(user_rated_items)]\n",
    "final_score.dropna(inplace=True)\n",
    "final_score = final_score[final_score != 0]"
   ]
  },
  {
   "cell_type": "code",
   "execution_count": null,
   "id": "ac34bbb8-0a3f-4486-b28e-574d3d0a1e36",
   "metadata": {},
   "outputs": [],
   "source": [
    "argsort = np.argsort(final_score.values)[::-1][:10]"
   ]
  },
  {
   "cell_type": "code",
   "execution_count": null,
   "id": "d0ceb456-bff0-4655-862a-9da9a678d218",
   "metadata": {
    "tags": []
   },
   "outputs": [],
   "source": [
    "final_score[argsort]"
   ]
  },
  {
   "cell_type": "code",
   "execution_count": null,
   "id": "e6ef35e4-a17c-4ce1-81b5-2f962dfdda63",
   "metadata": {},
   "outputs": [],
   "source": [
    "pred1 = final_score[argsort].index.astype(np.int)"
   ]
  },
  {
   "cell_type": "code",
   "execution_count": null,
   "id": "8b0a9bd5-1f79-449a-a885-e83a1c8a6c0d",
   "metadata": {},
   "outputs": [],
   "source": [
    "def f_avg_rating(row):\n",
    "    tmp = knn.user_movie_mat_sparse.getrow(row['my_neighbors_index'])\n",
    "    return tmp.sum() / tmp.count_nonzero()\n",
    "\n",
    "# ziskame nadprumerne popularni itemy\n",
    "def f_popular_item(row):\n",
    "    tmp = knn.user_movie_mat_sparse.getrow(row['my_neighbors_index'])\n",
    "    rows, cals = tmp.nonzero()\n",
    "    return pd.DataFrame(\n",
    "        [[i, j, row['my_neighbors_distance'], row['avg_rating']] for (i, j) in zip(cols, tmp.data) if\n",
    "         j > row['avg_rating']],\n",
    "        columns=['movieIndex', 'rating', 'my_neighbors_distance', 'avg_rating'])\n",
    "\n",
    "def f_rating_diff(row):\n",
    "    tmp = row['rating'] - row['avg_rating']\n",
    "    return tmp\n",
    "\n",
    "# vypocet vazeneho score\n",
    "def f_score(row):\n",
    "    tmp = row['rating_diff'] * (1 - row['my_neighbors_distance'])\n",
    "    return tmp\n",
    "\n",
    "def f_beta_score(row):\n",
    "    item_glob_popularity = \\\n",
    "        knn.item_global_rating[knn.item_global_rating['index'] == row['index']][['sum_rating']].values[0][\n",
    "            0]\n",
    "    bottom_score = item_glob_popularity ** knn.beta\n",
    "    return row['upper_score'] / bottom_score"
   ]
  },
  {
   "cell_type": "code",
   "execution_count": null,
   "id": "8de3a8bc-6387-45f4-98b9-506656802bd5",
   "metadata": {},
   "outputs": [],
   "source": [
    "# vytahnu svoje sousedy\n",
    "k_users_orig_items = pd.DataFrame(my_neighbors, columns=['my_neighbors_index'])\n",
    "# pridam jejich cosine similaritu (distance)\n",
    "k_users_orig_items['my_neighbors_distance'] = my_neighbors_distance\n",
    "# vypoctu prumerny rating uzivatele\n",
    "k_users_orig_items['avg_rating'] = k_users_orig_items.apply(f_avg_rating, axis=1)\n",
    "\n",
    "# nechame jen nadprumerny itemy\n",
    "k_users_orig_items['popular_item'] = k_users_orig_items.apply(f_popular_item, axis=1)\n",
    "# prevedu itemy do samostatneho dataframe\n",
    "frame = k_users_orig_items['popular_item'].values\n",
    "recomItems = pd.concat(frame)\n",
    "# vypocet rozdilu ratingu\n",
    "recomItems['rating_diff'] = recomItems.apply(f_rating_diff, axis=1)\n",
    "# vypocitam score\n",
    "recomItems['upper_score'] = recomItems.apply(f_score, axis=1)\n",
    "# provedu summu score a ratingu\n",
    "recomItems = recomItems.groupby(['movieIndex']).sum()\n",
    "# vratim zpet index\n",
    "recomItems['index'] = recomItems.index\n",
    "# vypocitam final beta score\n",
    "recomItems['final_score'] = recomItems.apply(f_beta_score, axis=1)\n",
    "\n",
    "# vyhodim itemy, ktery muj user uz videl\n",
    "recomItems = recomItems.loc[~recomItems.index.isin(cols)]\n",
    "# vyhodim nan\n",
    "recomItems = recomItems.dropna()\n",
    "# vse seradim\n",
    "recomItems = recomItems.sort_values(by=['final_score'], ascending=False)"
   ]
  },
  {
   "cell_type": "code",
   "execution_count": null,
   "id": "64da94bf-7fe2-4fc4-99f3-76b4c6f34e8a",
   "metadata": {},
   "outputs": [],
   "source": [
    "recomItems"
   ]
  },
  {
   "cell_type": "code",
   "execution_count": null,
   "id": "4e28274b-0eea-444c-93cb-9fde48f214c6",
   "metadata": {},
   "outputs": [],
   "source": [
    "# riznu pocet rekomentaco\n",
    "# recomItems = recomItems[:10]\n",
    "# !!!! moje rekomendace jsou indexy ve sparce matrix, ted potrebuje je prevest na movieId\n",
    "tmp = list(recomItems[:10].index)\n",
    "\n",
    "# todle je kvuli onto divers\n",
    "#####\n",
    "# _itemIdArr = []\n",
    "# for i in tmp:\n",
    "#     _itemId = self.train_data_by_row_number[self.train_data_by_row_number.index.isin([i])]['index'].values\n",
    "#     _itemIdArr.append(_itemId[0])\n",
    "#\n",
    "# recomItems['movieId'] = _itemIdArr\n",
    "# self.recomItemsCache = recomItems\n",
    "######\n",
    "\n",
    "recoms_movie = knn.train_data_by_row_number[knn.train_data_by_row_number.index.isin(tmp)]\n",
    "\n",
    "return_recoms = np.array(recoms_movie['index'].values).astype(int)"
   ]
  },
  {
   "cell_type": "code",
   "execution_count": null,
   "id": "b8d2b6c8-bb44-48f8-95bb-af4e02ce4418",
   "metadata": {},
   "outputs": [],
   "source": [
    "tmp"
   ]
  },
  {
   "cell_type": "code",
   "execution_count": null,
   "id": "c58f4aad-d37a-4535-a874-f041df44e36b",
   "metadata": {},
   "outputs": [],
   "source": [
    "np.allclose(recomItems['final_score'].values.astype(np.float16).round(-4), final_score.values.astype(np.float16).round(-4))"
   ]
  },
  {
   "cell_type": "code",
   "execution_count": null,
   "id": "b9f78779-9778-4b66-9180-30cf8a95ef5d",
   "metadata": {},
   "outputs": [],
   "source": [
    "return_recoms"
   ]
  },
  {
   "cell_type": "code",
   "execution_count": null,
   "id": "faaea8d2-cf8e-4b97-9cec-b9cd0a68982b",
   "metadata": {},
   "outputs": [],
   "source": [
    "pred1"
   ]
  },
  {
   "cell_type": "code",
   "execution_count": null,
   "id": "88895988-cd6a-4578-b00e-a2861a132152",
   "metadata": {},
   "outputs": [],
   "source": []
  }
 ],
 "metadata": {
  "kernelspec": {
   "display_name": "Python 3 (ipykernel)",
   "language": "python",
   "name": "python3"
  },
  "language_info": {
   "codemirror_mode": {
    "name": "ipython",
    "version": 3
   },
   "file_extension": ".py",
   "mimetype": "text/x-python",
   "name": "python",
   "nbconvert_exporter": "python",
   "pygments_lexer": "ipython3",
   "version": "3.7.9"
  }
 },
 "nbformat": 4,
 "nbformat_minor": 5
}
