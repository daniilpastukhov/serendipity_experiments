{
 "cells": [
  {
   "cell_type": "code",
   "execution_count": 1,
   "id": "b81f4cc8-ca55-4b04-86ea-e145aa63614d",
   "metadata": {},
   "outputs": [],
   "source": [
    "import sys\n",
    "sys.path.append(\"..\") # fix for relative imports"
   ]
  },
  {
   "cell_type": "code",
   "execution_count": 2,
   "id": "4ccac388-49b5-4e41-87c2-45674b769954",
   "metadata": {},
   "outputs": [],
   "source": [
    "import numpy as np\n",
    "import pandas as pd\n",
    "from sklearn.model_selection import train_test_split\n",
    "from scipy.sparse import csr_matrix\n",
    "\n",
    "import random\n",
    "import os"
   ]
  },
  {
   "cell_type": "code",
   "execution_count": 3,
   "id": "ba094517-bb2a-4515-adf7-3220805f1926",
   "metadata": {},
   "outputs": [],
   "source": [
    "from utils.helpers import get_movies_by_profile"
   ]
  },
  {
   "cell_type": "code",
   "execution_count": 4,
   "id": "847d2bb6-c01b-45cc-ac45-c90b77e15e28",
   "metadata": {},
   "outputs": [],
   "source": [
    "PATH = '../data/movielens/10m/'\n",
    "LOAD_PATH = os.path.join(PATH, 'raw')\n",
    "CLEAN_PATH = os.path.join(PATH, 'clean')"
   ]
  },
  {
   "cell_type": "code",
   "execution_count": null,
   "id": "0b8141aa-b3aa-470f-818c-ce6ef387778c",
   "metadata": {},
   "outputs": [],
   "source": [
    "r_cols = ['userId', 'movieId', 'rating', 'timestamp']\n",
    "ratings = pd.read_csv(os.path.join(LOAD_PATH, 'ratings.dat'), sep='::', names=r_cols, usecols=range(4), encoding=\"ISO-8859-1\", engine='python')\n",
    "\n",
    "m_cols = ['movieId', 'title', 'genres']\n",
    "movies = pd.read_csv(os.path.join(LOAD_PATH, 'movies.dat'), sep='::', encoding=\"ISO-8859-1\", names=m_cols, engine='python', header=None)\n",
    "\n",
    "# ratings = pd.merge(movies, ratings)\n",
    "ratings"
   ]
  }
 ],
 "metadata": {
  "kernelspec": {
   "display_name": "Python 3 (ipykernel)",
   "language": "python",
   "name": "python3"
  },
  "language_info": {
   "codemirror_mode": {
    "name": "ipython",
    "version": 3
   },
   "file_extension": ".py",
   "mimetype": "text/x-python",
   "name": "python",
   "nbconvert_exporter": "python",
   "pygments_lexer": "ipython3",
   "version": "3.7.9"
  }
 },
 "nbformat": 4,
 "nbformat_minor": 5
}
