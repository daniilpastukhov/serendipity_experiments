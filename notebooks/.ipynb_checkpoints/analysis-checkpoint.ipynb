{
 "cells": [
  {
   "cell_type": "code",
   "execution_count": 2,
   "metadata": {},
   "outputs": [],
   "source": [
    "import numpy as np\n",
    "import pandas as pd\n",
    "from joblib import load"
   ]
  },
  {
   "cell_type": "code",
   "execution_count": 5,
   "metadata": {},
   "outputs": [],
   "source": [
    "def process(metrics, params):\n",
    "    metrics = np.round(metrics, 3)\n",
    "    params[:, 2] *= 8\n",
    "    params = params.astype('int')\n",
    "    df = pd.DataFrame(np.column_stack([params, metrics]), columns=['KNN', 'MF', 'AutoRec', 'Serednipity', 'Recall', 'Coverage'])\n",
    "    for n in ['KNN', 'MF', 'AutoRec']:\n",
    "        df[n] = df[n].astype('int')\n",
    "    return df.copy()"
   ]
  },
  {
   "cell_type": "markdown",
   "metadata": {},
   "source": [
    "## NSGA2 (2obj, 10iter) MovieLens-100k"
   ]
  },
  {
   "cell_type": "code",
   "execution_count": 4,
   "metadata": {},
   "outputs": [],
   "source": [
    "metrics = [\n",
    "    [0.39083245 0.15789474],\n",
    "    [0.39239172 0.13684211]\n",
    "    [0.39222586 0.14736842],\n",
    "]\n",
    "\n",
    "[[35 88 42]\n",
    " [47 97 50]\n",
    " [47 56 42]]\n",
    "params = np.array([\n",
    "    [1, 91, 6],\n",
    "    [1, 28, 37],\n",
    "    [1, 28, 43],\n",
    "    [1, 95, 6]]\n",
    ")"
   ]
  },
  {
   "cell_type": "code",
   "execution_count": 5,
   "metadata": {},
   "outputs": [
    {
     "name": "stdout",
     "output_type": "stream",
     "text": [
      "\\begin{tabular}{lrrrrrr}\n",
      "\\toprule\n",
      "{} &  KNN &  MF &  AutoRec &  Serednipity &  Recall &  Coverage \\\\\n",
      "\\midrule\n",
      "0 &    1 &  91 &       48 &        0.478 &   0.147 &     0.177 \\\\\n",
      "1 &    1 &  28 &      296 &        0.466 &   0.221 &     0.209 \\\\\n",
      "2 &    1 &  28 &      344 &        0.467 &   0.168 &     0.200 \\\\\n",
      "3 &    1 &  95 &       48 &        0.480 &   0.137 &     0.189 \\\\\n",
      "\\bottomrule\n",
      "\\end{tabular}\n",
      "\n"
     ]
    }
   ],
   "source": [
    "print(process(metrics, params).to_latex())"
   ]
  },
  {
   "cell_type": "markdown",
   "metadata": {},
   "source": [
    "## NSGA2 (2 objectives, 5 iterations) MovieLens-1m"
   ]
  },
  {
   "cell_type": "code",
   "execution_count": 9,
   "metadata": {},
   "outputs": [],
   "source": [
    "metrics2 = [\n",
    "    [0.41950789, 0.06333333, 0.1111111111111111],\n",
    "    [0.41992983, 0.05166667, 0.12049300956585725],\n",
    "    [0.41744091, 0.065     , 0.11571008094186902],\n",
    "    [0.41708559, 0.06666667, 0.11699779249448124],\n",
    "    [0.4200347,  0.05      , 0.11331861662987491]\n",
    "]\n",
    "\n",
    "params2 = np.array([\n",
    "    [61, 22, 12],\n",
    "    [59, 84, 9],\n",
    "    [56, 21, 19],\n",
    "    [59, 90, 16],\n",
    "    [61, 15, 16]\n",
    "])"
   ]
  },
  {
   "cell_type": "code",
   "execution_count": 10,
   "metadata": {},
   "outputs": [
    {
     "name": "stdout",
     "output_type": "stream",
     "text": [
      "\\begin{tabular}{lrrrrrr}\n",
      "\\toprule\n",
      "{} &  KNN &  MF &  AutoRec &  Serednipity &  Recall &  Coverage \\\\\n",
      "\\midrule\n",
      "0 &   61 &  22 &       96 &        0.420 &   0.063 &     0.111 \\\\\n",
      "1 &   59 &  84 &       72 &        0.420 &   0.052 &     0.120 \\\\\n",
      "2 &   56 &  21 &      152 &        0.417 &   0.065 &     0.116 \\\\\n",
      "3 &   59 &  90 &      128 &        0.417 &   0.067 &     0.117 \\\\\n",
      "4 &   61 &  15 &      128 &        0.420 &   0.050 &     0.113 \\\\\n",
      "\\bottomrule\n",
      "\\end{tabular}\n",
      "\n"
     ]
    }
   ],
   "source": [
    "print(process(metrics2, params2).to_latex())"
   ]
  },
  {
   "cell_type": "markdown",
   "metadata": {},
   "source": [
    "## Meta-Learning, 3 iter, 1m"
   ]
  },
  {
   "cell_type": "code",
   "execution_count": 10,
   "metadata": {},
   "outputs": [],
   "source": [
    "meta = [\n",
    "    [0.42073113, 0.055     , 0.11000735835172921],\n",
    "    [0.41980675, 0.05833333, 0.1112950699043414],\n",
    "    [0.41909377, 0.06833333, 0.1076158940397351],\n",
    "    [0.42113895, 0.05      , 0.11000735835172921]\n",
    "]\n",
    "\n",
    "meta_params = np.array([\n",
    "    [60, 10, 21],\n",
    "    [70, 10, 21],\n",
    "    [73, 16, 29],\n",
    "    [67, 19, 6]\n",
    "])"
   ]
  },
  {
   "cell_type": "code",
   "execution_count": 11,
   "metadata": {},
   "outputs": [
    {
     "name": "stdout",
     "output_type": "stream",
     "text": [
      "\\begin{tabular}{rrrrrr}\n",
      "\\toprule\n",
      " KNN &  MF &  AutoRec &  Serednipity &  Recall &  Coverage \\\\\n",
      "\\midrule\n",
      "  60 &  10 &      168 &        0.421 &   0.055 &     0.110 \\\\\n",
      "  70 &  10 &      168 &        0.420 &   0.058 &     0.111 \\\\\n",
      "  73 &  16 &      232 &        0.419 &   0.068 &     0.108 \\\\\n",
      "  67 &  19 &       48 &        0.421 &   0.050 &     0.110 \\\\\n",
      "\\bottomrule\n",
      "\\end{tabular}\n",
      "\n"
     ]
    }
   ],
   "source": [
    "print(process(meta, meta_params).to_latex(index=False))"
   ]
  },
  {
   "cell_type": "code",
   "execution_count": 12,
   "metadata": {},
   "outputs": [],
   "source": [
    "non_meta = [\n",
    "    [0.41919322, 0.055     , 0.13245033112582782],\n",
    "    [0.42033838, 0.05      , 0.11019131714495953],\n",
    "    [0.42073097, 0.04      , 0.10743193524650478],\n",
    "    [0.41841783, 0.05833333, 0.13189845474613687]\n",
    "]\n",
    "\n",
    "non_meta_params = np.array([\n",
    "    [35, 30, 40],\n",
    "    [67, 22, 58],\n",
    "    [66, 17, 55],\n",
    "    [31, 13, 13]\n",
    "])"
   ]
  },
  {
   "cell_type": "code",
   "execution_count": 13,
   "metadata": {},
   "outputs": [
    {
     "name": "stdout",
     "output_type": "stream",
     "text": [
      "\\begin{tabular}{rrrrrr}\n",
      "\\toprule\n",
      " KNN &  MF &  AutoRec &  Serednipity &  Recall &  Coverage \\\\\n",
      "\\midrule\n",
      "  35 &  30 &      320 &        0.419 &   0.055 &     0.132 \\\\\n",
      "  67 &  22 &      464 &        0.420 &   0.050 &     0.110 \\\\\n",
      "  66 &  17 &      440 &        0.421 &   0.040 &     0.107 \\\\\n",
      "  31 &  13 &      104 &        0.418 &   0.058 &     0.132 \\\\\n",
      "\\bottomrule\n",
      "\\end{tabular}\n",
      "\n"
     ]
    }
   ],
   "source": [
    "print(process(non_meta, non_meta_params).to_latex(index=False))"
   ]
  },
  {
   "cell_type": "code",
   "execution_count": null,
   "metadata": {},
   "outputs": [],
   "source": []
  }
 ],
 "metadata": {
  "kernelspec": {
   "display_name": "Python 3",
   "language": "python",
   "name": "python3"
  },
  "language_info": {
   "codemirror_mode": {
    "name": "ipython",
    "version": 3
   },
   "file_extension": ".py",
   "mimetype": "text/x-python",
   "name": "python",
   "nbconvert_exporter": "python",
   "pygments_lexer": "ipython3",
   "version": "3.7.4"
  }
 },
 "nbformat": 4,
 "nbformat_minor": 4
}
