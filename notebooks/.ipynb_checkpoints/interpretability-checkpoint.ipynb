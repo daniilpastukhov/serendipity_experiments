{
 "cells": [
  {
   "cell_type": "markdown",
   "metadata": {},
   "source": [
    "## Imports"
   ]
  },
  {
   "cell_type": "code",
   "execution_count": 1,
   "metadata": {},
   "outputs": [],
   "source": [
    "import sys\n",
    "sys.path.append(\"..\") # fix for relative imports"
   ]
  },
  {
   "cell_type": "code",
   "execution_count": 2,
   "metadata": {},
   "outputs": [],
   "source": [
    "from algorithms.mf import UserBasedMatrixFactorization\n",
    "from algorithms.knn_popular import UserBasedKNNpopularity\n",
    "\n",
    "from algorithms.ease import EASE"
   ]
  },
  {
   "cell_type": "code",
   "execution_count": 3,
   "metadata": {},
   "outputs": [],
   "source": [
    "import os\n",
    "from collections import defaultdict\n",
    "import gc\n",
    "\n",
    "import pandas as pd\n",
    "import numpy as np\n",
    "\n",
    "from sklearn.decomposition import TruncatedSVD\n",
    "from sklearn.model_selection import train_test_split\n",
    "from utils.metrics import similarity, serendipity, distance, novelty, unexpectedness, relevance\n",
    "\n",
    "from joblib import load, dump\n",
    "from tqdm import tqdm"
   ]
  },
  {
   "cell_type": "markdown",
   "metadata": {},
   "source": [
    "## Data loading"
   ]
  },
  {
   "cell_type": "code",
   "execution_count": 4,
   "metadata": {},
   "outputs": [],
   "source": [
    "DATA_PATH = '../data/movielens/1m/clean/'"
   ]
  },
  {
   "cell_type": "code",
   "execution_count": 5,
   "metadata": {},
   "outputs": [],
   "source": [
    "ratings = pd.read_csv(os.path.join(DATA_PATH, 'ratings.csv'))\n",
    "movies = pd.read_csv(os.path.join(DATA_PATH, 'movies.csv'))"
   ]
  },
  {
   "cell_type": "code",
   "execution_count": 6,
   "metadata": {},
   "outputs": [],
   "source": [
    "train_data = load(os.path.join(DATA_PATH, 'train_data.pickle'))\n",
    "val_data = load(os.path.join(DATA_PATH, 'val_data_prepare_for_recom.pickle'))\n",
    "test_data = load(os.path.join(DATA_PATH, 'test_data_prepare_for_recom.pickle'))"
   ]
  },
  {
   "cell_type": "code",
   "execution_count": 7,
   "metadata": {},
   "outputs": [],
   "source": [
    "item_global_rating = load(os.path.join(DATA_PATH, 'item_sum_dif_rating.pickle'))"
   ]
  },
  {
   "cell_type": "code",
   "execution_count": 8,
   "metadata": {},
   "outputs": [],
   "source": [
    "genres_cols = [f'feature{i + 1}' for i in range(18)]\n",
    "\n",
    "def get_movies_by_profile(profile):\n",
    "    profile = profile.T\n",
    "    return movies[movies['movieId'].isin(profile[profile != 0].dropna(axis=0).T.columns)]\n",
    "\n",
    "def get_average_genre(movies):\n",
    "    return movies.mean(axis=0)[genres_cols]\n",
    "\n",
    "def get_movies_by_ids(ids):\n",
    "    return movies[movies['movieId'].isin(ids)]"
   ]
  },
  {
   "cell_type": "markdown",
   "metadata": {},
   "source": [
    "### MF"
   ]
  },
  {
   "cell_type": "code",
   "execution_count": null,
   "metadata": {},
   "outputs": [],
   "source": [
    "def get_model(alg):\n",
    "    model = None\n",
    "    if alg == 'knn':\n",
    "        model = UserBasedKNNpopularity('knn', '../config/config.ini', train_data, 0, item_global_rating)\n",
    "        model.preprocess()\n",
    "        model.fit({'K': k, 'random_state': 42})\n",
    "    elif alg == 'mf':\n",
    "        model = UserBasedMatrixFactorization('mf', '../config/config.ini', train_data, item_global_rating)\n",
    "        model.preprocess()\n",
    "        model.fit({'n_components': comps, 'random_state': 42, 'corr': 1})\n",
    "        \n",
    "    return model"
   ]
  },
  {
   "cell_type": "code",
   "execution_count": null,
   "metadata": {},
   "outputs": [],
   "source": [
    "recommendations = []\n",
    "grid = [50]#, 20, 50, 100]\n",
    "\n",
    "for comps in grid:\n",
    "    model = get_model('mf')\n",
    "    recommendatons_ = {}\n",
    "    \n",
    "    for i, row in tqdm(val_data.iterrows(), position=0, total=len(val_data)):\n",
    "        pred = mf.predictItemByUser(row[1], row[0], 10)\n",
    "        recommendatons_[i] = pred\n",
    "    \n",
    "    recommendations[comps] = recommendatons_\n",
    "    gc.collect()"
   ]
  },
  {
   "cell_type": "code",
   "execution_count": null,
   "metadata": {},
   "outputs": [],
   "source": [
    "dump(recommendations, './values/mf_{}comp_val_predictions.pickle'.format('_'.join([str(i) for i in grid])), protocol=2)"
   ]
  },
  {
   "cell_type": "markdown",
   "metadata": {},
   "source": [
    "### KNN"
   ]
  },
  {
   "cell_type": "code",
   "execution_count": null,
   "metadata": {},
   "outputs": [],
   "source": [
    "recommendations = []\n",
    "grid = [20, 30, 50]#, 20, 50, 100]\n",
    "\n",
    "for k in grid:\n",
    "    model = get_model('knn')\n",
    "    recommendatons_ = {}\n",
    "    \n",
    "    for i, row in tqdm(val_data.iterrows(), position=0, total=len(val_data)):\n",
    "        pred = model.predictItemByUser(row[1], row[0], 10)\n",
    "        recommendatons_[i] = pred\n",
    "    \n",
    "    recommendations[k] = recommendatons_\n",
    "    gc.collect()"
   ]
  },
  {
   "cell_type": "code",
   "execution_count": null,
   "metadata": {},
   "outputs": [],
   "source": [
    "dump(recommendations, './values/knn_{}k_0beta_val_predictions.pickle'.format('_'.join([str(i) for i in grid])), protocol=2)"
   ]
  },
  {
   "cell_type": "markdown",
   "metadata": {},
   "source": [
    "### EASE"
   ]
  },
  {
   "cell_type": "code",
   "execution_count": null,
   "metadata": {},
   "outputs": [],
   "source": [
    "train_df, rest_df = train_test_split(ratings, test_size=0.2, shuffle=True, random_state=42)"
   ]
  },
  {
   "cell_type": "code",
   "execution_count": null,
   "metadata": {},
   "outputs": [],
   "source": [
    "ease = EASE()\n",
    "ease.fit(train_df, implicit=False)"
   ]
  },
  {
   "cell_type": "code",
   "execution_count": null,
   "metadata": {},
   "outputs": [],
   "source": [
    "pred = ease.predict(train_df, val_data.index.values, np.unique(train_df['movieId']), 10)"
   ]
  },
  {
   "cell_type": "code",
   "execution_count": null,
   "metadata": {},
   "outputs": [],
   "source": [
    "pred[pred['userId'] == 3071]"
   ]
  },
  {
   "cell_type": "code",
   "execution_count": null,
   "metadata": {},
   "outputs": [],
   "source": [
    "recommendations = defaultdict(list)\n",
    "\n",
    "for user_id, df in pred.groupby('userId'):\n",
    "    recommendations[user_id].extend(df['movieId'].values)"
   ]
  },
  {
   "cell_type": "markdown",
   "metadata": {},
   "source": [
    "### Profile and predictions similarity"
   ]
  },
  {
   "cell_type": "code",
   "execution_count": null,
   "metadata": {},
   "outputs": [],
   "source": [
    "recommendations[3071]"
   ]
  },
  {
   "cell_type": "code",
   "execution_count": null,
   "metadata": {},
   "outputs": [],
   "source": [
    "recs = recommendations"
   ]
  },
  {
   "cell_type": "code",
   "execution_count": null,
   "metadata": {},
   "outputs": [],
   "source": [
    "similarities = []\n",
    "\n",
    "for i, row in tqdm(val_data.iterrows(), position=0, total=len(val_data)):\n",
    "    try:\n",
    "        pred_features = get_average_genre(get_movies_by_ids(recs[i]))\n",
    "        user_features = get_average_genre(get_movies_by_profile(row[1]))\n",
    "\n",
    "        similarities.append(similarity(pred_features, user_features))\n",
    "    except:\n",
    "        print(i)"
   ]
  },
  {
   "cell_type": "code",
   "execution_count": null,
   "metadata": {},
   "outputs": [],
   "source": [
    "np.mean(similarities)"
   ]
  },
  {
   "cell_type": "code",
   "execution_count": null,
   "metadata": {},
   "outputs": [],
   "source": [
    "get_average_genre(get_movies_by_profile(val_data['user_movies_profile_dataframe'].iloc[0]))"
   ]
  },
  {
   "cell_type": "code",
   "execution_count": null,
   "metadata": {},
   "outputs": [],
   "source": [
    "get_average_genre(get_movies_by_ids(d[5530]))"
   ]
  },
  {
   "cell_type": "markdown",
   "metadata": {},
   "source": [
    "### Serendipity implementation checking"
   ]
  },
  {
   "cell_type": "code",
   "execution_count": null,
   "metadata": {},
   "outputs": [],
   "source": [
    "embeddings = load('../t_film_profile_sem_0_and_com_001.pickle')"
   ]
  },
  {
   "cell_type": "code",
   "execution_count": null,
   "metadata": {},
   "outputs": [],
   "source": [
    "embeddings[embeddings.index == 586]"
   ]
  },
  {
   "cell_type": "code",
   "execution_count": null,
   "metadata": {},
   "outputs": [],
   "source": [
    "embeddings[embeddings.index == 2986]"
   ]
  },
  {
   "cell_type": "code",
   "execution_count": null,
   "metadata": {},
   "outputs": [],
   "source": [
    "get_movies_by_ids([2985])[genres_cols].values[0, :]"
   ]
  },
  {
   "cell_type": "code",
   "execution_count": null,
   "metadata": {},
   "outputs": [],
   "source": [
    "get_movies_by_ids([519])[genres_cols].values"
   ]
  },
  {
   "cell_type": "code",
   "execution_count": null,
   "metadata": {},
   "outputs": [],
   "source": [
    "get_movies_by_ids([1])[genres_cols].values"
   ]
  },
  {
   "cell_type": "code",
   "execution_count": null,
   "metadata": {},
   "outputs": [],
   "source": [
    "get_movies_by_ids([3114])[genres_cols].values"
   ]
  },
  {
   "cell_type": "code",
   "execution_count": null,
   "metadata": {},
   "outputs": [],
   "source": [
    "from sklearn.metrics.pairwise import cosine_similarity\n",
    "from utils.metrics import distance\n",
    "\n",
    "distance(get_movies_by_ids([1])[genres_cols].values[0, :], get_movies_by_ids([3114])[genres_cols].values[0, :])"
   ]
  },
  {
   "cell_type": "code",
   "execution_count": null,
   "metadata": {},
   "outputs": [],
   "source": [
    "movies[movies['title'].str.contains('Cind')]"
   ]
  },
  {
   "cell_type": "code",
   "execution_count": null,
   "metadata": {},
   "outputs": [],
   "source": [
    "movies[movies['movieId'] == 2571]"
   ]
  },
  {
   "cell_type": "markdown",
   "metadata": {},
   "source": [
    "Toy Story - id 1  \n",
    "Toy Story 2 - id 3114  \n",
    "The Lion King - id 364"
   ]
  },
  {
   "cell_type": "code",
   "execution_count": 9,
   "metadata": {},
   "outputs": [],
   "source": [
    "user = pd.DataFrame([np.zeros(len(train_data.columns))], columns=train_data.columns)"
   ]
  },
  {
   "cell_type": "code",
   "execution_count": 10,
   "metadata": {},
   "outputs": [],
   "source": [
    "# set ratings for cartoons\n",
    "\n",
    "user[1] = 5.0\n",
    "user[3114] = 4.0\n",
    "user[364] = 5.0\n",
    "user[1022] = 5.0\n",
    "\n",
    "user = get_movies_by_profile(user)[genres_cols].values"
   ]
  },
  {
   "cell_type": "code",
   "execution_count": 11,
   "metadata": {},
   "outputs": [
    {
     "data": {
      "text/plain": [
       "array([[0, 0, 1, 1, 1, 0, 0, 0, 0, 0, 0, 0, 0, 0, 0, 0, 0, 0],\n",
       "       [0, 0, 1, 1, 0, 0, 0, 0, 0, 0, 0, 1, 0, 0, 0, 0, 0, 0],\n",
       "       [0, 0, 1, 1, 0, 0, 0, 0, 0, 0, 0, 1, 0, 0, 0, 0, 0, 0],\n",
       "       [0, 0, 1, 1, 1, 0, 0, 0, 0, 0, 0, 0, 0, 0, 0, 0, 0, 0]])"
      ]
     },
     "execution_count": 11,
     "metadata": {},
     "output_type": "execute_result"
    }
   ],
   "source": [
    "user"
   ]
  },
  {
   "cell_type": "code",
   "execution_count": 12,
   "metadata": {},
   "outputs": [],
   "source": [
    "primitive_recommendation = [2081, 595, 588] # cartoons only\n",
    "recommendations = [2571, 2628, 1196, 586]"
   ]
  },
  {
   "cell_type": "code",
   "execution_count": 13,
   "metadata": {},
   "outputs": [
    {
     "data": {
      "text/plain": [
       "0.7"
      ]
     },
     "execution_count": 13,
     "metadata": {},
     "output_type": "execute_result"
    }
   ],
   "source": [
    "np.mean(np.array([0.3195861825602283, 1.0, 1.0, 1.0]) * 0.3) + np.mean(0.3 * np.array([0.6804138174397716, 0.0, 0.0, 0.0])) + 1.0 * 0.4"
   ]
  },
  {
   "cell_type": "code",
   "execution_count": 14,
   "metadata": {},
   "outputs": [
    {
     "data": {
      "text/plain": [
       "0.7"
      ]
     },
     "execution_count": 14,
     "metadata": {},
     "output_type": "execute_result"
    }
   ],
   "source": [
    "np.mean([0.11628826929126164, 0.3, 0.3, 0.3]) + np.mean([0.18371173070873834, 0.0, 0.0, 0.0]) + 0.4"
   ]
  },
  {
   "cell_type": "code",
   "execution_count": 15,
   "metadata": {},
   "outputs": [
    {
     "data": {
      "text/plain": [
       "array([0.7, 0.7, 0.7, 0.7])"
      ]
     },
     "execution_count": 15,
     "metadata": {},
     "output_type": "execute_result"
    }
   ],
   "source": [
    "np.array([0.11628827, 0.3, 0.3, 0.3]) + np.array([0.18371173, 0., 0., 0.]) + 0.4"
   ]
  },
  {
   "cell_type": "code",
   "execution_count": 21,
   "metadata": {},
   "outputs": [
    {
     "name": "stdout",
     "output_type": "stream",
     "text": [
      "Novelty: [0.11628826929126164, 0.3, 0.3, 0.3], relevance: [0.18371173070873834, 0.0, 0.0, 0.0], unexp: 1.0\n"
     ]
    },
    {
     "data": {
      "text/plain": [
       "0.7"
      ]
     },
     "execution_count": 21,
     "metadata": {},
     "output_type": "execute_result"
    }
   ],
   "source": [
    "serendipity(get_movies_by_ids(recommendations)[genres_cols].values,\n",
    "            recommendations,\n",
    "            primitive_recommendation,\n",
    "            user, \n",
    "#             keepdims=True,\n",
    "            verbose=True)"
   ]
  },
  {
   "cell_type": "code",
   "execution_count": 17,
   "metadata": {},
   "outputs": [
    {
     "data": {
      "text/plain": [
       "array([1, 0, 0, 0, 0, 0, 0, 0, 0, 0, 0, 0, 0, 0, 1, 1, 0, 0])"
      ]
     },
     "execution_count": 17,
     "metadata": {},
     "output_type": "execute_result"
    }
   ],
   "source": [
    "get_movies_by_ids([2571])[genres_cols].values[0, :]"
   ]
  },
  {
   "cell_type": "code",
   "execution_count": 18,
   "metadata": {},
   "outputs": [
    {
     "data": {
      "text/plain": [
       "0.8333333333333333"
      ]
     },
     "execution_count": 18,
     "metadata": {},
     "output_type": "execute_result"
    }
   ],
   "source": [
    "relevance(get_movies_by_ids([1022])[genres_cols].values[0, :], user)"
   ]
  },
  {
   "cell_type": "code",
   "execution_count": 19,
   "metadata": {},
   "outputs": [],
   "source": [
    "from scipy.spatial.distance import cosine"
   ]
  },
  {
   "cell_type": "code",
   "execution_count": 20,
   "metadata": {},
   "outputs": [
    {
     "name": "stdout",
     "output_type": "stream",
     "text": [
      "[0 0 1 1 1 0 0 0 0 0 0 0 0 0 0 0 0 0] [1 0 0 0 0 0 0 0 0 0 0 0 0 0 1 1 0 0]\n",
      "1.0\n",
      "0.0\n",
      "[0 0 1 1 0 0 0 0 0 0 0 1 0 0 0 0 0 0] [1 0 0 0 0 0 0 0 0 0 0 0 0 0 1 1 0 0]\n",
      "1.0\n",
      "0.0\n",
      "[0 0 1 1 0 0 0 0 0 0 0 1 0 0 0 0 0 0] [1 0 0 0 0 0 0 0 0 0 0 0 0 0 1 1 0 0]\n",
      "1.0\n",
      "0.0\n",
      "[0 0 1 1 1 0 0 0 0 0 0 0 0 0 0 0 0 0] [1 0 0 0 0 0 0 0 0 0 0 0 0 0 1 1 0 0]\n",
      "1.0\n",
      "0.0\n"
     ]
    }
   ],
   "source": [
    "tmp = get_movies_by_ids([2571])[genres_cols].values[0, :]\n",
    "\n",
    "for item in user:\n",
    "    print(item, tmp)\n",
    "    print(cosine(item, tmp))\n",
    "    print(similarity(tmp, item))"
   ]
  },
  {
   "cell_type": "code",
   "execution_count": null,
   "metadata": {},
   "outputs": [],
   "source": []
  }
 ],
 "metadata": {
  "kernelspec": {
   "display_name": "Python 3",
   "language": "python",
   "name": "python3"
  },
  "language_info": {
   "codemirror_mode": {
    "name": "ipython",
    "version": 3
   },
   "file_extension": ".py",
   "mimetype": "text/x-python",
   "name": "python",
   "nbconvert_exporter": "python",
   "pygments_lexer": "ipython3",
   "version": "3.7.4"
  }
 },
 "nbformat": 4,
 "nbformat_minor": 4
}
