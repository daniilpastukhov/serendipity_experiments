{
 "cells": [
  {
   "cell_type": "code",
   "execution_count": 1,
   "id": "e47bf75b-47df-41a8-969c-8bd11b0c2471",
   "metadata": {},
   "outputs": [],
   "source": [
    "import sys\n",
    "sys.path.append(\"..\") # fix for relative imports"
   ]
  },
  {
   "cell_type": "code",
   "execution_count": 2,
   "id": "71e9973d-d87a-44c9-9458-251d89f3cc41",
   "metadata": {},
   "outputs": [],
   "source": [
    "import os\n",
    "\n",
    "import matplotlib.pyplot as plt\n",
    "import seaborn as sns\n",
    "\n",
    "from scipy.sparse import csr_matrix\n",
    "\n",
    "import numpy as np\n",
    "import pandas as pd\n",
    "from joblib import load\n",
    "\n",
    "from models.knn_popular import KNNpopularity\n",
    "from models.knn_popular_optimized import KNNpopularity2"
   ]
  },
  {
   "cell_type": "code",
   "execution_count": 3,
   "id": "35fb1fb1-6c2d-47de-954c-b5bfece458ff",
   "metadata": {},
   "outputs": [],
   "source": [
    "DATA_PATH = '../data/movielens/1m/clean/'"
   ]
  },
  {
   "cell_type": "code",
   "execution_count": 4,
   "id": "2592b34c-2fd8-4197-9589-9a5f2730f44c",
   "metadata": {},
   "outputs": [],
   "source": [
    "train_data = pd.read_csv(os.path.join(DATA_PATH, 'train_data.csv'), index_col='userId')\n",
    "test_data = pd.read_csv(os.path.join(DATA_PATH, 'test_data.csv'), index_col='userId')"
   ]
  },
  {
   "cell_type": "code",
   "execution_count": 5,
   "id": "90c8fc36-65a0-42f2-8bb4-73f16f6111b7",
   "metadata": {},
   "outputs": [],
   "source": [
    "item_ratings = load(os.path.join(DATA_PATH, 'item_sum_dif_rating.pickle'))"
   ]
  },
  {
   "cell_type": "code",
   "execution_count": 6,
   "id": "7db419c9-52a9-4e45-8d37-5607c0c6d888",
   "metadata": {},
   "outputs": [],
   "source": [
    "knn = KNNpopularity('knn', '../config/config.ini', train_data[:100], item_ratings)\n",
    "knn.preprocess()\n",
    "knn.fit({'K': 5})"
   ]
  },
  {
   "cell_type": "code",
   "execution_count": 7,
   "id": "2ee581e2-288f-4848-93af-eb14eaf92e81",
   "metadata": {},
   "outputs": [],
   "source": [
    "knn2 = KNNpopularity2('knn2', '../config/config.ini', train_data[:100], item_ratings)\n",
    "knn2.preprocess()\n",
    "knn2.fit({'K': 5})"
   ]
  },
  {
   "cell_type": "code",
   "execution_count": 8,
   "id": "dd583611-2d9e-4505-b498-a59eb03a2b46",
   "metadata": {},
   "outputs": [
    {
     "name": "stdout",
     "output_type": "stream",
     "text": [
      "595 ms ± 18 ms per loop (mean ± std. dev. of 7 runs, 1 loop each)\n"
     ]
    }
   ],
   "source": [
    "%%timeit\n",
    "preds = []\n",
    "for user in test_data.iloc[:10]:\n",
    "    preds.append(knn.predict(user, 10))"
   ]
  },
  {
   "cell_type": "code",
   "execution_count": 9,
   "id": "d65085fc-7cdb-450a-ae20-e1f0bd42f686",
   "metadata": {},
   "outputs": [
    {
     "name": "stdout",
     "output_type": "stream",
     "text": [
      "615 ms ± 10.6 ms per loop (mean ± std. dev. of 7 runs, 1 loop each)\n"
     ]
    }
   ],
   "source": [
    "%%timeit\n",
    "new_preds = []\n",
    "for user in test_data.iloc[:10]:\n",
    "    new_preds.append(knn2.predict(user, 10))"
   ]
  },
  {
   "cell_type": "code",
   "execution_count": 10,
   "id": "c2aea836-ec65-4daa-a0ae-08ff60fd811e",
   "metadata": {},
   "outputs": [],
   "source": [
    "user = test_data.iloc[0]"
   ]
  },
  {
   "cell_type": "code",
   "execution_count": 680,
   "id": "fed302e1-dd5b-4e27-b2b7-0d965ea4eb34",
   "metadata": {},
   "outputs": [],
   "source": [
    "#for user in test_data.iloc[:10]:\n",
    "user_crc_profile = csr_matrix(user)\n",
    "rows, user_cols = user_crc_profile.nonzero()\n",
    "\n",
    "distances, indices = knn.model_knn.kneighbors(user_crc_profile)"
   ]
  },
  {
   "cell_type": "code",
   "execution_count": 681,
   "id": "7a2fa27f-8e61-4267-a978-ce4f8bec8c3f",
   "metadata": {},
   "outputs": [],
   "source": [
    "# %%timeit\n",
    "my_neighbors = indices[0]\n",
    "my_neighbors_distance = distances[0]"
   ]
  },
  {
   "cell_type": "code",
   "execution_count": 682,
   "id": "4bf61e7d-a29b-4877-b996-63bcf5f0cef4",
   "metadata": {},
   "outputs": [
    {
     "data": {
      "text/plain": [
       "(array([71, 92, 72, 10, 36], dtype=int64),\n",
       " array([0.54066119, 0.54485882, 0.5531729 , 0.55548728, 0.56885666]))"
      ]
     },
     "execution_count": 682,
     "metadata": {},
     "output_type": "execute_result"
    }
   ],
   "source": [
    "my_neighbors, my_neighbors_distance"
   ]
  },
  {
   "cell_type": "code",
   "execution_count": 683,
   "id": "5e4e4fcb-b0af-464d-a8d3-40046bb1086a",
   "metadata": {},
   "outputs": [
    {
     "data": {
      "text/plain": [
       "array([71, 92, 72, 10, 36], dtype=int64)"
      ]
     },
     "execution_count": 683,
     "metadata": {},
     "output_type": "execute_result"
    }
   ],
   "source": [
    "my_neighbors"
   ]
  },
  {
   "cell_type": "code",
   "execution_count": 684,
   "id": "face7d26-685d-4087-8e0e-86b0b034c359",
   "metadata": {},
   "outputs": [
    {
     "data": {
      "text/html": [
       "<div>\n",
       "<style scoped>\n",
       "    .dataframe tbody tr th:only-of-type {\n",
       "        vertical-align: middle;\n",
       "    }\n",
       "\n",
       "    .dataframe tbody tr th {\n",
       "        vertical-align: top;\n",
       "    }\n",
       "\n",
       "    .dataframe thead th {\n",
       "        text-align: right;\n",
       "    }\n",
       "</style>\n",
       "<table border=\"1\" class=\"dataframe\">\n",
       "  <thead>\n",
       "    <tr style=\"text-align: right;\">\n",
       "      <th></th>\n",
       "      <th>21</th>\n",
       "      <th>22</th>\n",
       "      <th>23</th>\n",
       "      <th>24</th>\n",
       "      <th>25</th>\n",
       "      <th>26</th>\n",
       "      <th>27</th>\n",
       "      <th>28</th>\n",
       "      <th>29</th>\n",
       "      <th>30</th>\n",
       "      <th>31</th>\n",
       "      <th>32</th>\n",
       "      <th>33</th>\n",
       "      <th>34</th>\n",
       "      <th>35</th>\n",
       "      <th>36</th>\n",
       "      <th>37</th>\n",
       "      <th>38</th>\n",
       "      <th>39</th>\n",
       "      <th>40</th>\n",
       "    </tr>\n",
       "    <tr>\n",
       "      <th>userId</th>\n",
       "      <th></th>\n",
       "      <th></th>\n",
       "      <th></th>\n",
       "      <th></th>\n",
       "      <th></th>\n",
       "      <th></th>\n",
       "      <th></th>\n",
       "      <th></th>\n",
       "      <th></th>\n",
       "      <th></th>\n",
       "      <th></th>\n",
       "      <th></th>\n",
       "      <th></th>\n",
       "      <th></th>\n",
       "      <th></th>\n",
       "      <th></th>\n",
       "      <th></th>\n",
       "      <th></th>\n",
       "      <th></th>\n",
       "      <th></th>\n",
       "    </tr>\n",
       "  </thead>\n",
       "  <tbody>\n",
       "    <tr>\n",
       "      <th>839</th>\n",
       "      <td>0.0</td>\n",
       "      <td>0.0</td>\n",
       "      <td>0.0</td>\n",
       "      <td>4.0</td>\n",
       "      <td>4.0</td>\n",
       "      <td>0.0</td>\n",
       "      <td>0.0</td>\n",
       "      <td>0.0</td>\n",
       "      <td>5.0</td>\n",
       "      <td>0.0</td>\n",
       "      <td>0.0</td>\n",
       "      <td>5.0</td>\n",
       "      <td>0.0</td>\n",
       "      <td>5.0</td>\n",
       "      <td>0.0</td>\n",
       "      <td>5.0</td>\n",
       "      <td>0.0</td>\n",
       "      <td>0.0</td>\n",
       "      <td>3.0</td>\n",
       "      <td>0.0</td>\n",
       "    </tr>\n",
       "    <tr>\n",
       "      <th>2777</th>\n",
       "      <td>0.0</td>\n",
       "      <td>4.0</td>\n",
       "      <td>3.0</td>\n",
       "      <td>4.0</td>\n",
       "      <td>3.0</td>\n",
       "      <td>3.0</td>\n",
       "      <td>0.0</td>\n",
       "      <td>0.0</td>\n",
       "      <td>0.0</td>\n",
       "      <td>0.0</td>\n",
       "      <td>4.0</td>\n",
       "      <td>4.0</td>\n",
       "      <td>0.0</td>\n",
       "      <td>4.0</td>\n",
       "      <td>0.0</td>\n",
       "      <td>0.0</td>\n",
       "      <td>0.0</td>\n",
       "      <td>3.0</td>\n",
       "      <td>4.0</td>\n",
       "      <td>0.0</td>\n",
       "    </tr>\n",
       "    <tr>\n",
       "      <th>1088</th>\n",
       "      <td>0.0</td>\n",
       "      <td>3.0</td>\n",
       "      <td>0.0</td>\n",
       "      <td>0.0</td>\n",
       "      <td>5.0</td>\n",
       "      <td>0.0</td>\n",
       "      <td>3.0</td>\n",
       "      <td>4.0</td>\n",
       "      <td>0.0</td>\n",
       "      <td>0.0</td>\n",
       "      <td>3.0</td>\n",
       "      <td>4.0</td>\n",
       "      <td>0.0</td>\n",
       "      <td>4.0</td>\n",
       "      <td>0.0</td>\n",
       "      <td>4.0</td>\n",
       "      <td>0.0</td>\n",
       "      <td>0.0</td>\n",
       "      <td>3.0</td>\n",
       "      <td>0.0</td>\n",
       "    </tr>\n",
       "    <tr>\n",
       "      <th>5689</th>\n",
       "      <td>2.0</td>\n",
       "      <td>0.0</td>\n",
       "      <td>0.0</td>\n",
       "      <td>4.0</td>\n",
       "      <td>0.0</td>\n",
       "      <td>0.0</td>\n",
       "      <td>0.0</td>\n",
       "      <td>3.0</td>\n",
       "      <td>0.0</td>\n",
       "      <td>0.0</td>\n",
       "      <td>3.0</td>\n",
       "      <td>3.0</td>\n",
       "      <td>0.0</td>\n",
       "      <td>4.0</td>\n",
       "      <td>0.0</td>\n",
       "      <td>4.0</td>\n",
       "      <td>0.0</td>\n",
       "      <td>0.0</td>\n",
       "      <td>4.0</td>\n",
       "      <td>0.0</td>\n",
       "    </tr>\n",
       "    <tr>\n",
       "      <th>3067</th>\n",
       "      <td>5.0</td>\n",
       "      <td>4.0</td>\n",
       "      <td>0.0</td>\n",
       "      <td>0.0</td>\n",
       "      <td>5.0</td>\n",
       "      <td>0.0</td>\n",
       "      <td>3.0</td>\n",
       "      <td>0.0</td>\n",
       "      <td>4.0</td>\n",
       "      <td>0.0</td>\n",
       "      <td>0.0</td>\n",
       "      <td>5.0</td>\n",
       "      <td>0.0</td>\n",
       "      <td>0.0</td>\n",
       "      <td>0.0</td>\n",
       "      <td>5.0</td>\n",
       "      <td>0.0</td>\n",
       "      <td>0.0</td>\n",
       "      <td>5.0</td>\n",
       "      <td>0.0</td>\n",
       "    </tr>\n",
       "  </tbody>\n",
       "</table>\n",
       "</div>"
      ],
      "text/plain": [
       "         21   22   23   24   25   26   27   28   29   30   31   32   33   34  \\\n",
       "userId                                                                         \n",
       "839     0.0  0.0  0.0  4.0  4.0  0.0  0.0  0.0  5.0  0.0  0.0  5.0  0.0  5.0   \n",
       "2777    0.0  4.0  3.0  4.0  3.0  3.0  0.0  0.0  0.0  0.0  4.0  4.0  0.0  4.0   \n",
       "1088    0.0  3.0  0.0  0.0  5.0  0.0  3.0  4.0  0.0  0.0  3.0  4.0  0.0  4.0   \n",
       "5689    2.0  0.0  0.0  4.0  0.0  0.0  0.0  3.0  0.0  0.0  3.0  3.0  0.0  4.0   \n",
       "3067    5.0  4.0  0.0  0.0  5.0  0.0  3.0  0.0  4.0  0.0  0.0  5.0  0.0  0.0   \n",
       "\n",
       "         35   36   37   38   39   40  \n",
       "userId                                \n",
       "839     0.0  5.0  0.0  0.0  3.0  0.0  \n",
       "2777    0.0  0.0  0.0  3.0  4.0  0.0  \n",
       "1088    0.0  4.0  0.0  0.0  3.0  0.0  \n",
       "5689    0.0  4.0  0.0  0.0  4.0  0.0  \n",
       "3067    0.0  5.0  0.0  0.0  5.0  0.0  "
      ]
     },
     "execution_count": 684,
     "metadata": {},
     "output_type": "execute_result"
    }
   ],
   "source": [
    "neighbours_profiles[neighbours_profiles.columns[20:40]]"
   ]
  },
  {
   "cell_type": "code",
   "execution_count": 685,
   "id": "e043b8f4-76cf-42a4-8f58-2f85edc89f59",
   "metadata": {},
   "outputs": [
    {
     "data": {
      "text/plain": [
       "userId\n",
       "839     3.988372\n",
       "2777    3.498286\n",
       "1088    3.337585\n",
       "5689    3.627049\n",
       "3067    3.753027\n",
       "dtype: float64"
      ]
     },
     "execution_count": 685,
     "metadata": {},
     "output_type": "execute_result"
    }
   ],
   "source": [
    "neighbours_profiles = knn2.train_data.iloc[my_neighbors]\n",
    "average_ratings = np.mean(neighbours_profiles[neighbours_profiles != 0], axis=1)\n",
    "average_ratings"
   ]
  },
  {
   "cell_type": "code",
   "execution_count": 687,
   "id": "9e2c5bcc-e0b7-4beb-b623-d89a26a4f703",
   "metadata": {},
   "outputs": [
    {
     "data": {
      "text/plain": [
       "userId\n",
       "839     0.0\n",
       "2777    0.0\n",
       "1088    0.0\n",
       "5689    2.0\n",
       "3067    5.0\n",
       "Name: 21, dtype: float64"
      ]
     },
     "execution_count": 687,
     "metadata": {},
     "output_type": "execute_result"
    }
   ],
   "source": [
    "neighbours_profiles['21']"
   ]
  },
  {
   "cell_type": "code",
   "execution_count": 722,
   "id": "2c0d6ce4-2ec2-485c-899c-eef141f467da",
   "metadata": {},
   "outputs": [],
   "source": [
    "popular_items = []\n",
    "popular_items_score = []\n",
    "\n",
    "for i in range(len(neighbours_profiles)):\n",
    "    row = neighbours_profiles.iloc[i]\n",
    "    user_average_rating = average_ratings.iloc[i]\n",
    "    best_items = row[row > user_average_rating]\n",
    "    popular_items.append(best_items.index)\n",
    "    score = (best_items.values - user_average_rating)# * (1 - my_neighbors_distance[i])\n",
    "    popular_items_score.append(score)"
   ]
  },
  {
   "cell_type": "code",
   "execution_count": 689,
   "id": "4c9f6b07-2bc6-4b89-a29f-2de687ea110a",
   "metadata": {},
   "outputs": [
    {
     "name": "stdout",
     "output_type": "stream",
     "text": [
      "Index(['1', '3', '6', '16', '17', '21', '22', '25', '29', '32',\n",
      "       ...\n",
      "       '3844', '3848', '3863', '3870', '3893', '3897', '3911', '3925', '3948',\n",
      "       '3952'],\n",
      "      dtype='object', length=505)\n"
     ]
    }
   ],
   "source": [
    "for i, el in enumerate(popular_items):\n",
    "    if '21' in el:\n",
    "        print(popular_items[i])"
   ]
  },
  {
   "cell_type": "code",
   "execution_count": 723,
   "id": "48aa97ca-363c-41c4-9470-460aabfdb3d1",
   "metadata": {},
   "outputs": [],
   "source": [
    "a = pd.Series(np.zeros(user.shape[0]), index=user.index)\n",
    "for i in range(len(popular_items)):\n",
    "    a.loc[popular_items[i]] += popular_items_score[i]"
   ]
  },
  {
   "cell_type": "code",
   "execution_count": 724,
   "id": "57286093-9274-42c3-8fd3-014150310091",
   "metadata": {},
   "outputs": [
    {
     "data": {
      "text/plain": [
       "1.921016238580572"
      ]
     },
     "execution_count": 724,
     "metadata": {},
     "output_type": "execute_result"
    }
   ],
   "source": [
    "a.loc['1']"
   ]
  },
  {
   "cell_type": "code",
   "execution_count": 692,
   "id": "2d519d3c-feab-49a4-8661-f76ad7a569e6",
   "metadata": {},
   "outputs": [],
   "source": [
    "final_score = a / item_ratings['sum_rating'].values"
   ]
  },
  {
   "cell_type": "code",
   "execution_count": 693,
   "id": "1ae81a77-490f-4052-b373-8ee181ef57a1",
   "metadata": {},
   "outputs": [],
   "source": [
    "final_score = final_score.loc[~final_score.index.isin(user_cols)]\n",
    "final_score.dropna(inplace=True)"
   ]
  },
  {
   "cell_type": "code",
   "execution_count": 694,
   "id": "88c831bc-23b6-4acb-9669-0d3a6740516c",
   "metadata": {},
   "outputs": [
    {
     "data": {
      "text/plain": [
       "21    5.501609\n",
       "dtype: float64"
      ]
     },
     "execution_count": 694,
     "metadata": {},
     "output_type": "execute_result"
    }
   ],
   "source": [
    "final_score[final_score.index == '21']"
   ]
  },
  {
   "cell_type": "code",
   "execution_count": 695,
   "id": "ac34bbb8-0a3f-4486-b28e-574d3d0a1e36",
   "metadata": {},
   "outputs": [],
   "source": [
    "argsort = np.argsort(final_score.values)[::-1][:10]"
   ]
  },
  {
   "cell_type": "code",
   "execution_count": 696,
   "id": "d0ceb456-bff0-4655-862a-9da9a678d218",
   "metadata": {},
   "outputs": [
    {
     "data": {
      "text/plain": [
       "2889    12.218959\n",
       "21       5.501609\n",
       "3763     2.091018\n",
       "3950     2.004862\n",
       "610      1.526020\n",
       "1563     1.372176\n",
       "3020     0.951409\n",
       "862      0.763873\n",
       "3244     0.651679\n",
       "1061     0.554968\n",
       "dtype: float64"
      ]
     },
     "execution_count": 696,
     "metadata": {},
     "output_type": "execute_result"
    }
   ],
   "source": [
    "final_score[argsort]"
   ]
  },
  {
   "cell_type": "code",
   "execution_count": 697,
   "id": "e6ef35e4-a17c-4ce1-81b5-2f962dfdda63",
   "metadata": {},
   "outputs": [],
   "source": [
    "pred1 = final_score[argsort].index.astype(np.int)"
   ]
  },
  {
   "cell_type": "code",
   "execution_count": 713,
   "id": "8b0a9bd5-1f79-449a-a885-e83a1c8a6c0d",
   "metadata": {},
   "outputs": [],
   "source": [
    "def f_avg_rating(row):\n",
    "    tmp = csr_matrix(knn.train_data.values).getrow(row['my_neighbors_index'])\n",
    "    return tmp.sum() / tmp.count_nonzero()\n",
    "\n",
    "def f_popular_item(row):\n",
    "#     tmp = csr_matrix(knn.train_data).getrow(row['my_neighbors_index'])\n",
    "#     rows, cals = tmp.nonzero()\n",
    "    tmp = knn2.train_data.iloc[int(row['my_neighbors_index'])]\n",
    "    tmp = tmp[tmp != 0]\n",
    "    cals = tmp.index\n",
    "    return pd.DataFrame(\n",
    "        [[i, j, row['my_neighbors_distance'], row['avg_rating']] for (i, j) in zip(cals, tmp.values) if j > row['avg_rating']],\n",
    "        columns=['movieIndex', 'rating', 'my_neighbors_distance', 'avg_rating'])\n",
    "\n",
    "def f_rating_diff(row):\n",
    "    tmp = row['rating'] - row['avg_rating']\n",
    "    return tmp\n",
    "\n",
    "# vypocet vazeneho score\n",
    "def f_score(row):\n",
    "    tmp = row['rating_diff'] * (1 - row['my_neighbors_distance'])\n",
    "    return tmp\n",
    "\n",
    "def f_beta_score(row):\n",
    "    item_glob_popularity = item_ratings[item_ratings['index'] == row['index']]['sum_rating'].values[0]\n",
    "    bottom_score = item_glob_popularity ** 1.0\n",
    "    return row['upper_score'] / bottom_score"
   ]
  },
  {
   "cell_type": "code",
   "execution_count": 720,
   "id": "8de3a8bc-6387-45f4-98b9-506656802bd5",
   "metadata": {},
   "outputs": [],
   "source": [
    "k_users_orig_items = pd.DataFrame(my_neighbors, columns=['my_neighbors_index'])\n",
    "k_users_orig_items['my_neighbors_distance'] = my_neighbors_distance\n",
    "k_users_orig_items['avg_rating'] = k_users_orig_items.apply(f_avg_rating, axis=1)\n",
    "k_users_orig_items['popular_item'] = k_users_orig_items.apply(f_popular_item, axis=1)\n",
    "# # prevedu itemy do samostatneho dataframe\n",
    "frame = k_users_orig_items['popular_item'].values\n",
    "recomItems = pd.concat(frame)\n",
    "\n",
    "recomItems['rating_diff'] = recomItems.apply(f_rating_diff, axis=1)\n",
    "# vypocitam score\n",
    "recomItems['upper_score'] = recomItems.apply(f_score, axis=1)\n",
    "# provedu summu score a ratingu\n",
    "recomItems = recomItems.groupby(['movieIndex']).agg('sum')\n",
    "# vratim zpet index\n",
    "# recomItems['index'] = recomItems.index\n",
    "# vypocitam final beta score\n",
    "# recomItems['final_score'] = recomItems.apply(f_beta_score, axis=1)"
   ]
  },
  {
   "cell_type": "code",
   "execution_count": 721,
   "id": "96fd7314-bcc9-4ad5-bbb4-2fcb046e25b3",
   "metadata": {},
   "outputs": [
    {
     "data": {
      "text/html": [
       "<div>\n",
       "<style scoped>\n",
       "    .dataframe tbody tr th:only-of-type {\n",
       "        vertical-align: middle;\n",
       "    }\n",
       "\n",
       "    .dataframe tbody tr th {\n",
       "        vertical-align: top;\n",
       "    }\n",
       "\n",
       "    .dataframe thead th {\n",
       "        text-align: right;\n",
       "    }\n",
       "</style>\n",
       "<table border=\"1\" class=\"dataframe\">\n",
       "  <thead>\n",
       "    <tr style=\"text-align: right;\">\n",
       "      <th></th>\n",
       "      <th>rating</th>\n",
       "      <th>my_neighbors_distance</th>\n",
       "      <th>avg_rating</th>\n",
       "      <th>rating_diff</th>\n",
       "      <th>upper_score</th>\n",
       "    </tr>\n",
       "    <tr>\n",
       "      <th>movieIndex</th>\n",
       "      <th></th>\n",
       "      <th></th>\n",
       "      <th></th>\n",
       "      <th></th>\n",
       "      <th></th>\n",
       "    </tr>\n",
       "  </thead>\n",
       "  <tbody>\n",
       "    <tr>\n",
       "      <th>1</th>\n",
       "      <td>13.0</td>\n",
       "      <td>1.662691</td>\n",
       "      <td>11.078984</td>\n",
       "      <td>1.921016</td>\n",
       "      <td>0.867146</td>\n",
       "    </tr>\n",
       "    <tr>\n",
       "      <th>10</th>\n",
       "      <td>12.0</td>\n",
       "      <td>1.649321</td>\n",
       "      <td>10.953006</td>\n",
       "      <td>1.046994</td>\n",
       "      <td>0.467107</td>\n",
       "    </tr>\n",
       "    <tr>\n",
       "      <th>1009</th>\n",
       "      <td>4.0</td>\n",
       "      <td>0.568857</td>\n",
       "      <td>3.753027</td>\n",
       "      <td>0.246973</td>\n",
       "      <td>0.106481</td>\n",
       "    </tr>\n",
       "    <tr>\n",
       "      <th>101</th>\n",
       "      <td>4.0</td>\n",
       "      <td>0.540661</td>\n",
       "      <td>3.988372</td>\n",
       "      <td>0.011628</td>\n",
       "      <td>0.005341</td>\n",
       "    </tr>\n",
       "    <tr>\n",
       "      <th>1012</th>\n",
       "      <td>5.0</td>\n",
       "      <td>0.555487</td>\n",
       "      <td>3.627049</td>\n",
       "      <td>1.372951</td>\n",
       "      <td>0.610294</td>\n",
       "    </tr>\n",
       "    <tr>\n",
       "      <th>...</th>\n",
       "      <td>...</td>\n",
       "      <td>...</td>\n",
       "      <td>...</td>\n",
       "      <td>...</td>\n",
       "      <td>...</td>\n",
       "    </tr>\n",
       "    <tr>\n",
       "      <th>986</th>\n",
       "      <td>4.0</td>\n",
       "      <td>0.568857</td>\n",
       "      <td>3.753027</td>\n",
       "      <td>0.246973</td>\n",
       "      <td>0.106481</td>\n",
       "    </tr>\n",
       "    <tr>\n",
       "      <th>991</th>\n",
       "      <td>8.0</td>\n",
       "      <td>1.109518</td>\n",
       "      <td>7.741399</td>\n",
       "      <td>0.258601</td>\n",
       "      <td>0.111822</td>\n",
       "    </tr>\n",
       "    <tr>\n",
       "      <th>994</th>\n",
       "      <td>9.0</td>\n",
       "      <td>1.093834</td>\n",
       "      <td>7.325957</td>\n",
       "      <td>1.674043</td>\n",
       "      <td>0.760665</td>\n",
       "    </tr>\n",
       "    <tr>\n",
       "      <th>998</th>\n",
       "      <td>5.0</td>\n",
       "      <td>0.568857</td>\n",
       "      <td>3.753027</td>\n",
       "      <td>1.246973</td>\n",
       "      <td>0.537624</td>\n",
       "    </tr>\n",
       "    <tr>\n",
       "      <th>999</th>\n",
       "      <td>9.0</td>\n",
       "      <td>1.122030</td>\n",
       "      <td>7.090612</td>\n",
       "      <td>1.909388</td>\n",
       "      <td>0.833609</td>\n",
       "    </tr>\n",
       "  </tbody>\n",
       "</table>\n",
       "<p>1319 rows × 5 columns</p>\n",
       "</div>"
      ],
      "text/plain": [
       "            rating  my_neighbors_distance  avg_rating  rating_diff  \\\n",
       "movieIndex                                                           \n",
       "1             13.0               1.662691   11.078984     1.921016   \n",
       "10            12.0               1.649321   10.953006     1.046994   \n",
       "1009           4.0               0.568857    3.753027     0.246973   \n",
       "101            4.0               0.540661    3.988372     0.011628   \n",
       "1012           5.0               0.555487    3.627049     1.372951   \n",
       "...            ...                    ...         ...          ...   \n",
       "986            4.0               0.568857    3.753027     0.246973   \n",
       "991            8.0               1.109518    7.741399     0.258601   \n",
       "994            9.0               1.093834    7.325957     1.674043   \n",
       "998            5.0               0.568857    3.753027     1.246973   \n",
       "999            9.0               1.122030    7.090612     1.909388   \n",
       "\n",
       "            upper_score  \n",
       "movieIndex               \n",
       "1              0.867146  \n",
       "10             0.467107  \n",
       "1009           0.106481  \n",
       "101            0.005341  \n",
       "1012           0.610294  \n",
       "...                 ...  \n",
       "986            0.106481  \n",
       "991            0.111822  \n",
       "994            0.760665  \n",
       "998            0.537624  \n",
       "999            0.833609  \n",
       "\n",
       "[1319 rows x 5 columns]"
      ]
     },
     "execution_count": 721,
     "metadata": {},
     "output_type": "execute_result"
    }
   ],
   "source": [
    "recomItems"
   ]
  },
  {
   "cell_type": "code",
   "execution_count": 540,
   "id": "4e28274b-0eea-444c-93cb-9fde48f214c6",
   "metadata": {},
   "outputs": [],
   "source": [
    "# vyhodim itemy, ktery muj user uz videl\n",
    "recomItems = recomItems.loc[~recomItems.index.isin(cals_user)]\n",
    "# vyhodim nan\n",
    "recomItems = recomItems.dropna()\n",
    "# vse seradim\n",
    "recomItems = recomItems.sort_values(by=['final_score'], ascending=False)\n",
    "# riznu pocet rekomentaco\n",
    "# recomItems = recomItems[:10]\n",
    "# !!!! moje rekomendace jsou indexy ve sparce matrix, ted potrebuje je prevest na movieId\n",
    "tmp = list(recomItems[:10].index)\n",
    "\n",
    "# todle je kvuli onto divers\n",
    "#####\n",
    "# _itemIdArr = []\n",
    "# for i in tmp:\n",
    "#     _itemId = self.train_data_by_row_number[self.train_data_by_row_number.index.isin([i])]['index'].values\n",
    "#     _itemIdArr.append(_itemId[0])\n",
    "#\n",
    "# recomItems['movieId'] = _itemIdArr\n",
    "# self.recomItemsCache = recomItems\n",
    "######\n",
    "\n",
    "recoms_movie = knn.train_data_by_row_number[knn.train_data_by_row_number.index.isin(tmp)]\n",
    "\n",
    "return_recoms = np.array(recoms_movie['index'].values).astype(int)"
   ]
  },
  {
   "cell_type": "code",
   "execution_count": 543,
   "id": "5bb4fc16-b9a7-4235-8d19-d174aa787687",
   "metadata": {},
   "outputs": [
    {
     "data": {
      "text/plain": [
       "rating                                     9.0\n",
       "my_neighbors_distance                  1.12203\n",
       "avg_rating                            7.090612\n",
       "rating_diff                           1.909388\n",
       "upper_score                           0.833609\n",
       "index                                     3020\n",
       "final_score              [0.28451278451564554]\n",
       "Name: 3020, dtype: object"
      ]
     },
     "execution_count": 543,
     "metadata": {},
     "output_type": "execute_result"
    }
   ],
   "source": [
    "recomItems.loc[3020]"
   ]
  },
  {
   "cell_type": "code",
   "execution_count": 525,
   "id": "1a532af6-3fd1-4002-82de-280c5d2c14e9",
   "metadata": {},
   "outputs": [
    {
     "data": {
      "text/plain": [
       "2889    5.464623\n",
       "21      2.371982\n",
       "3763    0.934775\n",
       "3950    0.892697\n",
       "610     0.700960\n",
       "1563    0.591605\n",
       "3020    0.425494\n",
       "862     0.329339\n",
       "3244    0.284513\n",
       "3599    0.246871\n",
       "dtype: float64"
      ]
     },
     "execution_count": 525,
     "metadata": {},
     "output_type": "execute_result"
    }
   ],
   "source": [
    "final_score[argsort]"
   ]
  },
  {
   "cell_type": "code",
   "execution_count": 526,
   "id": "25bae30d-1b32-4fb2-b502-601dcc957c98",
   "metadata": {},
   "outputs": [
    {
     "data": {
      "text/html": [
       "<div>\n",
       "<style scoped>\n",
       "    .dataframe tbody tr th:only-of-type {\n",
       "        vertical-align: middle;\n",
       "    }\n",
       "\n",
       "    .dataframe tbody tr th {\n",
       "        vertical-align: top;\n",
       "    }\n",
       "\n",
       "    .dataframe thead th {\n",
       "        text-align: right;\n",
       "    }\n",
       "</style>\n",
       "<table border=\"1\" class=\"dataframe\">\n",
       "  <thead>\n",
       "    <tr style=\"text-align: right;\">\n",
       "      <th></th>\n",
       "      <th>rating</th>\n",
       "      <th>my_neighbors_distance</th>\n",
       "      <th>avg_rating</th>\n",
       "      <th>rating_diff</th>\n",
       "      <th>upper_score</th>\n",
       "      <th>index</th>\n",
       "      <th>final_score</th>\n",
       "    </tr>\n",
       "    <tr>\n",
       "      <th>movieIndex</th>\n",
       "      <th></th>\n",
       "      <th></th>\n",
       "      <th></th>\n",
       "      <th></th>\n",
       "      <th></th>\n",
       "      <th></th>\n",
       "      <th></th>\n",
       "    </tr>\n",
       "  </thead>\n",
       "  <tbody>\n",
       "    <tr>\n",
       "      <th>2682</th>\n",
       "      <td>8.0</td>\n",
       "      <td>1.113715</td>\n",
       "      <td>7.251312</td>\n",
       "      <td>0.748688</td>\n",
       "      <td>0.334832</td>\n",
       "      <td>2682</td>\n",
       "      <td>[5.464622535192243]</td>\n",
       "    </tr>\n",
       "    <tr>\n",
       "      <th>20</th>\n",
       "      <td>5.0</td>\n",
       "      <td>0.568857</td>\n",
       "      <td>3.753027</td>\n",
       "      <td>1.246973</td>\n",
       "      <td>0.537624</td>\n",
       "      <td>20</td>\n",
       "      <td>[2.371982303259214]</td>\n",
       "    </tr>\n",
       "    <tr>\n",
       "      <th>3520</th>\n",
       "      <td>8.0</td>\n",
       "      <td>1.093834</td>\n",
       "      <td>7.325957</td>\n",
       "      <td>0.674043</td>\n",
       "      <td>0.301326</td>\n",
       "      <td>3520</td>\n",
       "      <td>[0.934774933908628]</td>\n",
       "    </tr>\n",
       "    <tr>\n",
       "      <th>3703</th>\n",
       "      <td>9.0</td>\n",
       "      <td>1.108660</td>\n",
       "      <td>6.964634</td>\n",
       "      <td>2.035366</td>\n",
       "      <td>0.906279</td>\n",
       "      <td>3703</td>\n",
       "      <td>[0.8926967288493933]</td>\n",
       "    </tr>\n",
       "    <tr>\n",
       "      <th>595</th>\n",
       "      <td>5.0</td>\n",
       "      <td>0.540661</td>\n",
       "      <td>3.988372</td>\n",
       "      <td>1.011628</td>\n",
       "      <td>0.464680</td>\n",
       "      <td>595</td>\n",
       "      <td>[0.7009603037378633]</td>\n",
       "    </tr>\n",
       "    <tr>\n",
       "      <th>1436</th>\n",
       "      <td>5.0</td>\n",
       "      <td>0.568857</td>\n",
       "      <td>3.753027</td>\n",
       "      <td>1.246973</td>\n",
       "      <td>0.537624</td>\n",
       "      <td>1436</td>\n",
       "      <td>[0.5916047595827558]</td>\n",
       "    </tr>\n",
       "    <tr>\n",
       "      <th>806</th>\n",
       "      <td>5.0</td>\n",
       "      <td>0.568857</td>\n",
       "      <td>3.753027</td>\n",
       "      <td>1.246973</td>\n",
       "      <td>0.537624</td>\n",
       "      <td>806</td>\n",
       "      <td>[0.3293386308480652]</td>\n",
       "    </tr>\n",
       "    <tr>\n",
       "      <th>3020</th>\n",
       "      <td>9.0</td>\n",
       "      <td>1.122030</td>\n",
       "      <td>7.090612</td>\n",
       "      <td>1.909388</td>\n",
       "      <td>0.833609</td>\n",
       "      <td>3020</td>\n",
       "      <td>[0.28451278451564554]</td>\n",
       "    </tr>\n",
       "    <tr>\n",
       "      <th>3359</th>\n",
       "      <td>4.0</td>\n",
       "      <td>0.553173</td>\n",
       "      <td>3.337585</td>\n",
       "      <td>0.662415</td>\n",
       "      <td>0.295985</td>\n",
       "      <td>3359</td>\n",
       "      <td>[0.24687129489063112]</td>\n",
       "    </tr>\n",
       "    <tr>\n",
       "      <th>993</th>\n",
       "      <td>13.0</td>\n",
       "      <td>1.666888</td>\n",
       "      <td>10.588897</td>\n",
       "      <td>2.411103</td>\n",
       "      <td>1.061960</td>\n",
       "      <td>993</td>\n",
       "      <td>[0.24443351240426314]</td>\n",
       "    </tr>\n",
       "  </tbody>\n",
       "</table>\n",
       "</div>"
      ],
      "text/plain": [
       "            rating  my_neighbors_distance  avg_rating  rating_diff  \\\n",
       "movieIndex                                                           \n",
       "2682           8.0               1.113715    7.251312     0.748688   \n",
       "20             5.0               0.568857    3.753027     1.246973   \n",
       "3520           8.0               1.093834    7.325957     0.674043   \n",
       "3703           9.0               1.108660    6.964634     2.035366   \n",
       "595            5.0               0.540661    3.988372     1.011628   \n",
       "1436           5.0               0.568857    3.753027     1.246973   \n",
       "806            5.0               0.568857    3.753027     1.246973   \n",
       "3020           9.0               1.122030    7.090612     1.909388   \n",
       "3359           4.0               0.553173    3.337585     0.662415   \n",
       "993           13.0               1.666888   10.588897     2.411103   \n",
       "\n",
       "            upper_score  index            final_score  \n",
       "movieIndex                                             \n",
       "2682           0.334832   2682    [5.464622535192243]  \n",
       "20             0.537624     20    [2.371982303259214]  \n",
       "3520           0.301326   3520    [0.934774933908628]  \n",
       "3703           0.906279   3703   [0.8926967288493933]  \n",
       "595            0.464680    595   [0.7009603037378633]  \n",
       "1436           0.537624   1436   [0.5916047595827558]  \n",
       "806            0.537624    806   [0.3293386308480652]  \n",
       "3020           0.833609   3020  [0.28451278451564554]  \n",
       "3359           0.295985   3359  [0.24687129489063112]  \n",
       "993            1.061960    993  [0.24443351240426314]  "
      ]
     },
     "execution_count": 526,
     "metadata": {},
     "output_type": "execute_result"
    }
   ],
   "source": [
    "recomItems"
   ]
  },
  {
   "cell_type": "code",
   "execution_count": 527,
   "id": "ec4b9cf4-5dd1-4b5e-9f0d-95ed8df6c099",
   "metadata": {},
   "outputs": [
    {
     "data": {
      "text/plain": [
       "array([  21,  610,  862, 1061, 1563, 2889, 3244, 3599, 3763, 3950],\n",
       "      dtype=int64)"
      ]
     },
     "execution_count": 527,
     "metadata": {},
     "output_type": "execute_result"
    }
   ],
   "source": [
    "item_ratings[item_ratings['index'].isin(tmp)]['movieId'].values"
   ]
  },
  {
   "cell_type": "code",
   "execution_count": 528,
   "id": "d177c8c1-5d8e-4525-9619-8318488e7efb",
   "metadata": {},
   "outputs": [],
   "source": [
    "pred2 = return_recoms"
   ]
  },
  {
   "cell_type": "code",
   "execution_count": 529,
   "id": "c7d94403-7fb7-4efd-a22a-fa73482c61ac",
   "metadata": {},
   "outputs": [
    {
     "data": {
      "text/plain": [
       "False"
      ]
     },
     "execution_count": 529,
     "metadata": {},
     "output_type": "execute_result"
    }
   ],
   "source": [
    "np.array_equal(pred1.values, pred2)"
   ]
  },
  {
   "cell_type": "code",
   "execution_count": 530,
   "id": "737c2697-24e2-4f21-9df9-6258a7415076",
   "metadata": {},
   "outputs": [
    {
     "data": {
      "text/plain": [
       "Int64Index([21, 610, 862, 1563, 2889, 3020, 3244, 3599, 3763, 3950], dtype='int64')"
      ]
     },
     "execution_count": 530,
     "metadata": {},
     "output_type": "execute_result"
    }
   ],
   "source": [
    "pred1.sort_values()"
   ]
  },
  {
   "cell_type": "code",
   "execution_count": 531,
   "id": "f7296912-208e-48b8-a3a3-eadb663220b3",
   "metadata": {},
   "outputs": [],
   "source": [
    "pred2.sort()"
   ]
  },
  {
   "cell_type": "code",
   "execution_count": 532,
   "id": "e7769c37-e984-488b-b4a4-bb3eeb4b87b8",
   "metadata": {},
   "outputs": [
    {
     "data": {
      "text/plain": [
       "array([  21,  610,  862, 1061, 1563, 2889, 3244, 3599, 3763, 3950])"
      ]
     },
     "execution_count": 532,
     "metadata": {},
     "output_type": "execute_result"
    }
   ],
   "source": [
    "pred2"
   ]
  },
  {
   "cell_type": "code",
   "execution_count": null,
   "id": "b9f78779-9778-4b66-9180-30cf8a95ef5d",
   "metadata": {},
   "outputs": [],
   "source": []
  }
 ],
 "metadata": {
  "kernelspec": {
   "display_name": "Python 3 (ipykernel)",
   "language": "python",
   "name": "python3"
  },
  "language_info": {
   "codemirror_mode": {
    "name": "ipython",
    "version": 3
   },
   "file_extension": ".py",
   "mimetype": "text/x-python",
   "name": "python",
   "nbconvert_exporter": "python",
   "pygments_lexer": "ipython3",
   "version": "3.7.9"
  }
 },
 "nbformat": 4,
 "nbformat_minor": 5
}
